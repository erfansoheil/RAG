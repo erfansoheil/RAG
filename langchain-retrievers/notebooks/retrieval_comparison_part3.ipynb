{
 "cells": [
  {
   "cell_type": "markdown",
   "id": "e14d676b",
   "metadata": {},
   "source": [
    "# LangChain Retriever Benchmark: Financial QA Evaluation\n",
    "\n",
    "## Overview\n",
    "\n",
    "This notebook compares **five advanced LangChain retrievers** on a financial Q&A dataset using rigorous information retrieval metrics.\n",
    "\n",
    "**Goal**: Understand which retriever architectures excel at finding the right context for financial questions across different recall depths (k=1, 3, 5).\n",
    "\n",
    "**Retrievers Compared**:\n",
    "1. **Base Dense Retriever** — vanilla similarity search\n",
    "2. **Parent Document Retriever** — chunk-to-parent aggregation for context\n",
    "3. **MMR Retriever** — diversity via Maximal Marginal Relevance\n",
    "4. **Self-Query Retriever** — LLM-powered metadata filtering\n",
    "5. **Multi-Query Retriever** — query expansion with paraphrases\n",
    "\n",
    "**Evaluation Metrics**: Recall@k, Precision@k, MRR@k, nDCG@k with bootstrap 95% confidence intervals.\n"
   ]
  },
  {
   "cell_type": "markdown",
   "id": "2ea9a252",
   "metadata": {},
   "source": [
    "## 0. Setup and Imports\n",
    "\n",
    "Import all necessary libraries and load configuration settings for reproducibility.\n"
   ]
  },
  {
   "cell_type": "code",
   "execution_count": 1,
   "id": "e5f5c4a5",
   "metadata": {},
   "outputs": [
    {
     "name": "stdout",
     "output_type": "stream",
     "text": [
      "✅ All imports successful!\n",
      "📍 Python version: 3.11.13\n",
      "📍 NumPy version: 2.3.3\n",
      "📍 Pandas version: 2.3.2\n"
     ]
    }
   ],
   "source": [
    "# Core libraries\n",
    "import json\n",
    "import hashlib\n",
    "import os\n",
    "import sys\n",
    "import warnings\n",
    "import random\n",
    "from pathlib import Path\n",
    "from typing import List, Dict, Any, Tuple\n",
    "from collections import defaultdict\n",
    "\n",
    "# Data processing\n",
    "import numpy as np\n",
    "import pandas as pd\n",
    "\n",
    "# Visualization\n",
    "import matplotlib.pyplot as plt\n",
    "import seaborn as sns\n",
    "\n",
    "# LangChain core\n",
    "from langchain_core.documents import Document\n",
    "from langchain_text_splitters import RecursiveCharacterTextSplitter\n",
    "from langchain_huggingface.embeddings import HuggingFaceEmbeddings\n",
    "from langchain_community.vectorstores import FAISS, Chroma\n",
    "from langchain_classic.storage import InMemoryStore\n",
    "from langchain_classic.retrievers import ParentDocumentRetriever\n",
    "from langchain_classic.retrievers.multi_query import MultiQueryRetriever\n",
    "from langchain_classic.retrievers.self_query.base import SelfQueryRetriever\n",
    "from langchain_classic.chains.query_constructor.base import AttributeInfo\n",
    "from langchain_core.prompts import PromptTemplate\n",
    "from langchain_community.llms import Ollama\n",
    "\n",
    "# Suppress warnings\n",
    "warnings.filterwarnings('ignore')\n",
    "\n",
    "# Add project root to path\n",
    "sys.path.append('..')\n",
    "import config\n",
    "\n",
    "# Set random seeds for reproducibility\n",
    "SEED = 42\n",
    "random.seed(SEED)\n",
    "np.random.seed(SEED)\n",
    "\n",
    "print(\"✅ All imports successful!\")\n",
    "print(f\"📍 Python version: {sys.version.split()[0]}\")\n",
    "print(f\"📍 NumPy version: {np.__version__}\")\n",
    "print(f\"📍 Pandas version: {pd.__version__}\")\n"
   ]
  },
  {
   "cell_type": "markdown",
   "id": "328bff11",
   "metadata": {},
   "source": [
    "### Configuration Settings\n",
    "\n",
    "Load settings from config.py and define evaluation parameters for consistency across all retrievers.\n"
   ]
  },
  {
   "cell_type": "code",
   "execution_count": 2,
   "id": "b493ad43",
   "metadata": {},
   "outputs": [
    {
     "name": "stdout",
     "output_type": "stream",
     "text": [
      "📊 Evaluation @ k: Base=5, Parent=5, MMR=5\n",
      "🎲 Random seed: 42\n",
      "🔢 Bootstrap samples: 1000\n"
     ]
    }
   ],
   "source": [
    "# Configuration parameters\n",
    "EMBEDDING_MODEL = \"sentence-transformers/all-MiniLM-L6-v2\"\n",
    "LLM_NAME = \"qwen3:8b\"  # Ollama model for Self-Query and Multi-Query\n",
    "CHUNK_SIZE = 200\n",
    "CHUNK_OVERLAP = 50\n",
    "PARENT_CHUNK_SIZE = 500\n",
    "PARENT_CHUNK_OVERLAP = 200\n",
    "\n",
    "# K values for different retrievers\n",
    "K_BASE = 5  # Base Dense retriever\n",
    "K_PARENT = 5  # Parent Document retriever\n",
    "K_MMR = 5  # MMR retriever\n",
    "\n",
    "MMR_DIVERSITY_LAMBDA = 0.5  # Balance between relevance and diversity\n",
    "MULTI_QUERY_N = 3  # Number of query paraphrases\n",
    "N_BOOTSTRAP = 1000  # Bootstrap resamples for confidence intervals\n",
    "\n",
    "# Paths\n",
    "DATA_PATH = Path(config.DATA_DIR) / \"financial_qa.jsonl\"\n",
    "ARTIFACTS_DIR = Path(config.PROJECT_ROOT) / \"artifacts\"\n",
    "PLOTS_DIR = ARTIFACTS_DIR / \"plots\"\n",
    "# EMBEDDINGS_CACHE = ARTIFACTS_DIR / \"embeddings_cache.pkl\"\n",
    "\n",
    "# Create directories\n",
    "ARTIFACTS_DIR.mkdir(exist_ok=True)\n",
    "PLOTS_DIR.mkdir(exist_ok=True)\n",
    "\n",
    "print(f\"📊 Evaluation @ k: Base={K_BASE}, Parent={K_PARENT}, MMR={K_MMR}\")\n",
    "print(f\"🎲 Random seed: {SEED}\")\n",
    "print(f\"🔢 Bootstrap samples: {N_BOOTSTRAP}\")\n"
   ]
  },
  {
   "cell_type": "markdown",
   "id": "8e95c962",
   "metadata": {},
   "source": [
    "### Initialize Embedding Model\n",
    "\n",
    "Set up the HuggingFace embedding model for document vectorization across all retrievers.\n"
   ]
  },
  {
   "cell_type": "code",
   "execution_count": 3,
   "id": "8925368a",
   "metadata": {},
   "outputs": [
    {
     "name": "stdout",
     "output_type": "stream",
     "text": [
      "🔤 Initializing embedding model...\n",
      "✅ Embedding model ready: sentence-transformers/all-MiniLM-L6-v2\n",
      "🤖 Initializing LLM...\n",
      "✅ LLM ready: qwen3:8b\n"
     ]
    }
   ],
   "source": [
    "# Initialize embedding model\n",
    "print(\"🔤 Initializing embedding model...\")\n",
    "embeddings = HuggingFaceEmbeddings(\n",
    "    model_name=EMBEDDING_MODEL,\n",
    "    model_kwargs={'device': config.DEVICE},\n",
    ")\n",
    "print(f\"✅ Embedding model ready: {EMBEDDING_MODEL}\")\n",
    "\n",
    "# Initialize LLM for Self-Query and Multi-Query retrievers\n",
    "print(\"🤖 Initializing LLM...\")\n",
    "llm = Ollama(model=LLM_NAME, temperature=0.0)\n",
    "print(f\"✅ LLM ready: {LLM_NAME}\")\n"
   ]
  },
  {
   "cell_type": "markdown",
   "id": "bbc66174",
   "metadata": {},
   "source": [
    "## 1. Load Dataset\n",
    "\n",
    "Load the financial QA dataset and validate its schema for evaluation.\n"
   ]
  },
  {
   "cell_type": "markdown",
   "id": "af1a4dfe",
   "metadata": {},
   "source": [
    "### Sample Subset for Faster Evaluation\n",
    "\n",
    "**Why sampling 300 records:**\n",
    "1. Full dataset has 7,000 Q&A pairs - too large for quick iteration\n",
    "2. **300 samples** provide statistically meaningful evaluation while being computationally efficient\n",
    "3. Random shuffling ensures representative coverage across companies, tickers, and filing types\n",
    "4. Faster vector store creation and retrieval evaluation for prototyping\n"
   ]
  },
  {
   "cell_type": "code",
   "execution_count": 4,
   "id": "511437be",
   "metadata": {},
   "outputs": [
    {
     "name": "stdout",
     "output_type": "stream",
     "text": [
      "✅ Loaded 7000 question-answer pairs\n",
      "\n",
      "📊 Sample record:\n",
      "  Question: What area did NVIDIA initially focus on before expanding to other computationall...\n",
      "  Answer: NVIDIA initially focused on PC graphics....\n",
      "  Context: Since our original focus on PC graphics, we have expanded to several other large...\n",
      "  Metadata: NVDA, 2023_10K, NVIDIA\n"
     ]
    }
   ],
   "source": [
    "# Load financial QA dataset\n",
    "financial_qa = []\n",
    "with open(DATA_PATH, 'r', encoding='utf-8') as f:\n",
    "    for line in f:\n",
    "        financial_qa.append(json.loads(line))\n",
    "\n",
    "print(f\"✅ Loaded {len(financial_qa)} question-answer pairs\")\n",
    "\n",
    "# Sample 300 records randomly\n",
    "# SAMPLE_SIZE = 300\n",
    "# print(f\"\\n🎲 Sampling {SAMPLE_SIZE} records (shuffled)...\")\n",
    "# random.seed(SEED)\n",
    "# financial_qa = random.sample(financial_qa_full, SAMPLE_SIZE)\n",
    "# print(f\"✅ Selected {len(financial_qa)} records for evaluation\")\n",
    "\n",
    "# Validate schema\n",
    "sample = financial_qa[0]\n",
    "required_fields = ['question', 'answer', 'context', 'ticker', 'filing', 'company_name']\n",
    "assert all(field in sample for field in required_fields), f\"Missing required fields in data\"\n",
    "\n",
    "print(f\"\\n📊 Sample record:\")\n",
    "print(f\"  Question: {sample['question'][:80]}...\")\n",
    "print(f\"  Answer: {sample['answer'][:80]}...\")\n",
    "print(f\"  Context: {sample['context'][:80]}...\")\n",
    "print(f\"  Metadata: {sample['ticker']}, {sample['filing']}, {sample['company_name']}\")\n"
   ]
  },
  {
   "cell_type": "code",
   "execution_count": null,
   "id": "88a1c8db",
   "metadata": {},
   "outputs": [],
   "source": [
    "len(financial_qa)"
   ]
  },
  {
   "cell_type": "markdown",
   "id": "46fabdfd",
   "metadata": {},
   "source": [
    "## 2. Preprocessing & Doc ID Creation\n",
    "\n",
    "Create stable document IDs for each record to enable relevance judgments during evaluation.\n"
   ]
  },
  {
   "cell_type": "code",
   "execution_count": 5,
   "id": "b9f4087e",
   "metadata": {},
   "outputs": [
    {
     "name": "stdout",
     "output_type": "stream",
     "text": [
      "🔑 Creating document IDs...\n",
      "✅ Created 6761 unique document IDs\n",
      "\n",
      "📚 Building corpus of unique contexts...\n",
      "✅ Corpus contains 6761 unique context documents\n",
      "📊 Total Q-A pairs: 7000\n",
      "📊 Avg Q-A pairs per document: 1.04\n"
     ]
    }
   ],
   "source": [
    "def create_doc_id(record: Dict) -> str:\n",
    "    \"\"\"Create a stable document ID from record metadata.\"\"\"\n",
    "    key = f\"{record['ticker']}_{record['filing']}_{record['company_name']}_{record['context']}\"\n",
    "    return hashlib.md5(key.encode()).hexdigest()[:16]\n",
    "\n",
    "# Add doc_id to each record\n",
    "print(\"🔑 Creating document IDs...\")\n",
    "for record in financial_qa:\n",
    "    record['doc_id'] = create_doc_id(record)\n",
    "\n",
    "print(f\"✅ Created {len(set(r['doc_id'] for r in financial_qa))} unique document IDs\")\n",
    "\n",
    "# Build corpus: unique contexts with metadata\n",
    "print(\"\\n📚 Building corpus of unique contexts...\")\n",
    "corpus_map = {}\n",
    "for record in financial_qa:\n",
    "    doc_id = record['doc_id']\n",
    "    if doc_id not in corpus_map:\n",
    "        corpus_map[doc_id] = {\n",
    "            'doc_id': doc_id,\n",
    "            'context': record['context'],\n",
    "            'ticker': record['ticker'],\n",
    "            'filing': record['filing'],\n",
    "            'company_name': record['company_name']\n",
    "        }\n",
    "\n",
    "corpus = list(corpus_map.values())\n",
    "print(f\"✅ Corpus contains {len(corpus)} unique context documents\")\n",
    "print(f\"📊 Total Q-A pairs: {len(financial_qa)}\")\n",
    "print(f\"📊 Avg Q-A pairs per document: {len(financial_qa) / len(corpus):.2f}\")\n"
   ]
  },
  {
   "cell_type": "code",
   "execution_count": null,
   "id": "a7b00601",
   "metadata": {},
   "outputs": [],
   "source": [
    "\n",
    "# def rewrite_question(question: str, llm) -> str:\n",
    "#     \"\"\"Rewrite the question to be more specific and clear.\"\"\"\n",
    "#     prompt= f\"\"\"You are given a question from the user and you need to rewrite the question that gives the same meaning and outcome\n",
    "#     but you must change the the words. try not to use the main questions words. \n",
    "#     question :\n",
    "#     {question}\n",
    "#     rewrite the question:\n",
    "#     \"\"\"\n",
    "    \n",
    "#     return llm.invoke(prompt)\n",
    "\n",
    "\n",
    "# # Rewrite all questions BEFORE evaluation\n",
    "# print(\"🔄 Rewriting questions using LLM...\")\n",
    "# print(f\"   This will call LLM {len(financial_qa)} times\")\n",
    "\n",
    "# for idx, record in enumerate(financial_qa):\n",
    "#     try:\n",
    "#         rewritten = rewrite_question(record['question'], llm)\n",
    "#         record['question_rewritten'] = rewritten\n",
    "#     except Exception as e:\n",
    "#         print(f\"  ⚠️ Error rewriting Q{idx}: {e}\")\n",
    "#         # Fallback to original question if rewriting fails\n",
    "#         record['question_rewritten'] = record['question']\n",
    "    \n",
    "#     # Progress indicator\n",
    "#     if (idx + 1) % 50 == 0:\n",
    "#         print(f\"  Progress: {idx + 1}/{len(financial_qa)} questions rewritten\")\n",
    "\n",
    "# print(f\"✅ All questions rewritten!\")\n",
    "# print(f\"\\n📊 Sample comparison:\")\n",
    "# sample = financial_qa[0]\n",
    "# print(f\"  Original:  {sample['question'][:100]}...\")\n",
    "# print(f\"  Rewritten: {sample['question_rewritten'][:100]}...\")\n",
    "\n",
    "\n",
    "# import json\n",
    "# from pathlib import Path\n",
    "\n",
    "# # Save the updated financial_qa with rewritten questions\n",
    "# output_path = Path(config.DATA_DIR) / \"financial_qa_rewritten.jsonl\"\n",
    "\n",
    "# print(f\"💾 Saving financial_qa with rewritten questions to {output_path}...\")\n",
    "\n",
    "# with open(output_path, 'w', encoding='utf-8') as f:\n",
    "#     for record in financial_qa:\n",
    "#         json.dump(record, f, ensure_ascii=False)\n",
    "#         f.write('\\n')\n",
    "\n",
    "# print(f\"✅ Saved {len(financial_qa)} records to {output_path}\")"
   ]
  },
  {
   "cell_type": "markdown",
   "id": "4003b69e",
   "metadata": {},
   "source": [
    "## 3. Text Splitting & Chunking\n",
    "\n",
    "Split documents into chunks with metadata propagation for retrieval and relevance tracking.\n"
   ]
  },
  {
   "cell_type": "code",
   "execution_count": 6,
   "id": "4c2b3c64",
   "metadata": {},
   "outputs": [
    {
     "name": "stdout",
     "output_type": "stream",
     "text": [
      "✂️ Setting up text splitters...\n",
      "📝 Creating LangChain Documents...\n",
      "✂️ Creating child chunks...\n",
      "✅ Created 11133 child chunks from 6761 documents\n",
      "\n",
      "📊 Chunking statistics:\n",
      "  Child chunk size: 200 chars\n",
      "  Parent chunk size: 500 chars\n",
      "  Avg child chunks per document: 1.65\n",
      "  Note: Parent chunks will be created internally by ParentDocumentRetriever\n"
     ]
    }
   ],
   "source": [
    "# Create text splitters\n",
    "print(\"✂️ Setting up text splitters...\")\n",
    "text_splitter = RecursiveCharacterTextSplitter(\n",
    "    chunk_size=CHUNK_SIZE,\n",
    "    chunk_overlap=CHUNK_OVERLAP,\n",
    "    length_function=len,\n",
    ")\n",
    "\n",
    "parent_splitter = RecursiveCharacterTextSplitter(\n",
    "    chunk_size=PARENT_CHUNK_SIZE,\n",
    "    chunk_overlap=PARENT_CHUNK_OVERLAP,\n",
    "    length_function=len,\n",
    ")\n",
    "\n",
    "# Create LangChain Documents from corpus\n",
    "print(\"📝 Creating LangChain Documents...\")\n",
    "documents = []\n",
    "for doc in corpus:\n",
    "    documents.append(Document(\n",
    "        page_content=doc['context'],\n",
    "        metadata={\n",
    "            'doc_id': doc['doc_id'],\n",
    "            'ticker': doc['ticker'],\n",
    "            'filing': doc['filing'],\n",
    "            'company_name': doc['company_name']\n",
    "        }\n",
    "    ))\n",
    "\n",
    "# Create child chunks (for base, MMR, self-query, multi-query retrievers)\n",
    "print(\"✂️ Creating child chunks...\")\n",
    "child_chunks = text_splitter.split_documents(documents)\n",
    "print(f\"✅ Created {len(child_chunks)} child chunks from {len(documents)} documents\")\n",
    "\n",
    "print(f\"\\n📊 Chunking statistics:\")\n",
    "print(f\"  Child chunk size: {CHUNK_SIZE} chars\")\n",
    "print(f\"  Parent chunk size: {PARENT_CHUNK_SIZE} chars\")\n",
    "print(f\"  Avg child chunks per document: {len(child_chunks) / len(documents):.2f}\")\n",
    "print(f\"  Note: Parent chunks will be created internally by ParentDocumentRetriever\")\n"
   ]
  },
  {
   "cell_type": "markdown",
   "id": "3446df4c",
   "metadata": {},
   "source": [
    "## 4. Build Vector Stores & Retrievers - Context\n",
    "\n",
    "Create vector stores and configure five different retriever architectures for comparison.\n"
   ]
  },
  {
   "cell_type": "markdown",
   "id": "94e0a03d",
   "metadata": {},
   "source": [
    "### 4.1 Base Dense Retriever - Context\n",
    "\n",
    "Vanilla similarity search on embeddings using Chroma—the baseline for comparison.\n"
   ]
  },
  {
   "cell_type": "code",
   "execution_count": 7,
   "id": "31b3d6bc",
   "metadata": {},
   "outputs": [
    {
     "name": "stdout",
     "output_type": "stream",
     "text": [
      "🗄️ Building Base Dense Retriever (Chroma) - Context-based...\n",
      "✅ Base retriever ready with 11133 chunks indexed (k=5)\n"
     ]
    }
   ],
   "source": [
    "# Build Chroma index for base retriever\n",
    "print(\"🗄️ Building Base Dense Retriever (Chroma) - Context-based...\")\n",
    "base_vectorstore = Chroma.from_documents(\n",
    "    documents=child_chunks,\n",
    "    embedding=embeddings,\n",
    "    collection_name=\"financial_qa_base\"\n",
    ")\n",
    "base_retriever = base_vectorstore.as_retriever(search_kwargs={\"k\": K_BASE})\n",
    "print(f\"✅ Base retriever ready with {len(child_chunks)} chunks indexed (k={K_BASE})\")\n"
   ]
  },
  {
   "cell_type": "markdown",
   "id": "1778a46e",
   "metadata": {},
   "source": [
    "### 4.2 Parent Document Retriever - Context\n",
    "\n",
    "Search over small chunks, but return their larger parent documents for richer context.\n"
   ]
  },
  {
   "cell_type": "code",
   "execution_count": 8,
   "id": "daa293c9",
   "metadata": {},
   "outputs": [
    {
     "name": "stdout",
     "output_type": "stream",
     "text": [
      "🗄️ Building Parent Document Retriever - Context-based...\n",
      "   Adding documents to Parent Document Retriever in batches...\n",
      "      Processed 1000/6761 documents...\n",
      "      Processed 2000/6761 documents...\n",
      "      Processed 3000/6761 documents...\n",
      "      Processed 4000/6761 documents...\n",
      "      Processed 5000/6761 documents...\n",
      "      Processed 6000/6761 documents...\n",
      "      Processed 6761/6761 documents...\n",
      "✅ Parent Document retriever ready (k=5)\n",
      "   Original documents: 6761\n",
      "   Parent-child relationships managed internally\n"
     ]
    }
   ],
   "source": [
    "# Build Parent Document Retriever\n",
    "print(\"🗄️ Building Parent Document Retriever - Context-based...\")\n",
    "\n",
    "# Create EMPTY vectorstore (ParentDocumentRetriever will populate it)\n",
    "parent_child_vectorstore = Chroma(\n",
    "    collection_name=\"financial_qa_parent_child\",\n",
    "    embedding_function=embeddings\n",
    ")\n",
    "\n",
    "# Create empty parent document store\n",
    "parent_docstore = InMemoryStore()\n",
    "\n",
    "# Create retriever (it will handle parent-child relationships internally)\n",
    "parent_retriever = ParentDocumentRetriever(\n",
    "    vectorstore=parent_child_vectorstore,\n",
    "    docstore=parent_docstore,\n",
    "    child_splitter=text_splitter,\n",
    "    parent_splitter=parent_splitter,\n",
    "    search_kwargs={\"k\": K_PARENT}\n",
    ")\n",
    "\n",
    "# Add documents in batches to avoid exceeding max batch size\n",
    "print(\"   Adding documents to Parent Document Retriever in batches...\")\n",
    "BATCH_SIZE = 1000  # Process 1000 documents at a time\n",
    "total_docs = len(documents)\n",
    "for i in range(0, total_docs, BATCH_SIZE):\n",
    "    batch = documents[i:i+BATCH_SIZE]\n",
    "    parent_retriever.add_documents(batch)\n",
    "    print(f\"      Processed {min(i+BATCH_SIZE, total_docs)}/{total_docs} documents...\")\n",
    "\n",
    "print(f\"✅ Parent Document retriever ready (k={K_PARENT})\")\n",
    "print(f\"   Original documents: {len(documents)}\")\n",
    "print(f\"   Parent-child relationships managed internally\")\n"
   ]
  },
  {
   "cell_type": "markdown",
   "id": "59aa9ac2",
   "metadata": {},
   "source": [
    "### 4.3 MMR Retriever - Context\n",
    "\n",
    "Maximal Marginal Relevance balances similarity with diversity to avoid redundant results.\n"
   ]
  },
  {
   "cell_type": "code",
   "execution_count": 9,
   "id": "138b723b",
   "metadata": {},
   "outputs": [
    {
     "name": "stdout",
     "output_type": "stream",
     "text": [
      "🗄️ Building MMR Retriever - Context-based...\n",
      "✅ MMR retriever ready (k=5)\n",
      "   λ (diversity): 0.5\n",
      "   fetch_k: 20\n"
     ]
    }
   ],
   "source": [
    "# Build MMR Retriever (uses same Chroma store as base)\n",
    "print(\"🗄️ Building MMR Retriever - Context-based...\")\n",
    "mmr_retriever = base_vectorstore.as_retriever(\n",
    "    search_type=\"mmr\",\n",
    "    search_kwargs={\n",
    "        \"k\": K_MMR,\n",
    "        \"fetch_k\": K_MMR * 4,  # Larger candidate pool\n",
    "        \"lambda_mult\": MMR_DIVERSITY_LAMBDA  # 0 = max diversity, 1 = max relevance\n",
    "    }\n",
    ")\n",
    "print(f\"✅ MMR retriever ready (k={K_MMR})\")\n",
    "print(f\"   λ (diversity): {MMR_DIVERSITY_LAMBDA}\")\n",
    "print(f\"   fetch_k: {K_MMR * 4}\")\n"
   ]
  },
  {
   "cell_type": "markdown",
   "id": "782e6f7b",
   "metadata": {},
   "source": [
    "## 5. Build Vector Stores & Retrievers - Answers\n",
    "\n",
    "Create the same three retriever architectures but using **answer embeddings** instead of context embeddings to compare performance.\n"
   ]
  },
  {
   "cell_type": "markdown",
   "id": "b56b1fa6",
   "metadata": {},
   "source": [
    "### 4.1 Creating Document for Vector store\n",
    "\n"
   ]
  },
  {
   "cell_type": "code",
   "execution_count": 10,
   "id": "6d8c5f7c",
   "metadata": {},
   "outputs": [
    {
     "name": "stdout",
     "output_type": "stream",
     "text": [
      "📚 Building answer-based documents...\n",
      "✅ Created 6761 answer-based documents\n",
      "✂️ Creating child chunks from answers...\n",
      "✅ Created 8669 answer chunks (avg: 1.28 per doc)\n"
     ]
    }
   ],
   "source": [
    "print(\"📚 Building answer-based documents...\")\n",
    "\n",
    "# Create answer documents using answers instead of contexts\n",
    "answer_documents = []\n",
    "for doc in corpus:\n",
    "    # Find corresponding answer\n",
    "    for record in financial_qa:\n",
    "        if record['doc_id'] == doc['doc_id']:\n",
    "            answer_documents.append(Document(\n",
    "                page_content=record['answer'],\n",
    "                metadata={\n",
    "                    'doc_id': doc['doc_id'],\n",
    "                    'ticker': doc['ticker'],\n",
    "                    'filing': doc['filing'],\n",
    "                    'company_name': doc['company_name']\n",
    "                }\n",
    "            ))\n",
    "            break\n",
    "\n",
    "print(f\"✅ Created {len(answer_documents)} answer-based documents\")\n",
    "\n",
    "# Create child chunks from answers\n",
    "print(\"✂️ Creating child chunks from answers...\")\n",
    "answer_child_chunks = text_splitter.split_documents(answer_documents)\n",
    "print(f\"✅ Created {len(answer_child_chunks)} answer chunks (avg: {len(answer_child_chunks) / len(answer_documents):.2f} per doc)\")\n"
   ]
  },
  {
   "cell_type": "markdown",
   "id": "3f8121b4",
   "metadata": {},
   "source": [
    "### 4.2 Base Dense Retriever - Answers\n"
   ]
  },
  {
   "cell_type": "code",
   "execution_count": 11,
   "id": "5d71e791",
   "metadata": {},
   "outputs": [
    {
     "name": "stdout",
     "output_type": "stream",
     "text": [
      "🗄️ Building Base Dense Retriever (Answer-based)...\n",
      "✅ Answer-based Base retriever ready (k=5)\n"
     ]
    }
   ],
   "source": [
    "# Build Base Dense Retriever with Answer embeddings\n",
    "print(\"🗄️ Building Base Dense Retriever (Answer-based)...\")\n",
    "answer_base_vectorstore = Chroma.from_documents(\n",
    "    documents=answer_child_chunks,\n",
    "    embedding=embeddings,\n",
    "    collection_name=\"financial_qa_base_answer\"\n",
    ")\n",
    "answer_base_retriever = answer_base_vectorstore.as_retriever(search_kwargs={\"k\": K_BASE})\n",
    "print(f\"✅ Answer-based Base retriever ready (k={K_BASE})\")\n"
   ]
  },
  {
   "cell_type": "markdown",
   "id": "4449e3cd",
   "metadata": {},
   "source": [
    "### 4.2 Parent Document Retriever - Answers\n",
    "\n"
   ]
  },
  {
   "cell_type": "code",
   "execution_count": 13,
   "id": "e4dae08e",
   "metadata": {},
   "outputs": [
    {
     "name": "stdout",
     "output_type": "stream",
     "text": [
      "🗄️ Building Parent Document Retriever (Answer-based)...\n",
      "   Adding answer documents to Parent Document Retriever in batches...\n",
      "      Processed 1000/6761 documents...\n",
      "      Processed 2000/6761 documents...\n",
      "      Processed 3000/6761 documents...\n",
      "      Processed 4000/6761 documents...\n",
      "      Processed 5000/6761 documents...\n",
      "      Processed 6000/6761 documents...\n",
      "      Processed 6761/6761 documents...\n",
      "✅ Answer-based Parent Document retriever ready (k=5)\n"
     ]
    }
   ],
   "source": [
    "# Build Parent Document Retriever with Answer embeddings\n",
    "print(\"🗄️ Building Parent Document Retriever (Answer-based)...\")\n",
    "\n",
    "answer_parent_child_vectorstore = Chroma(\n",
    "    collection_name=\"financial_qa_parent_child_answer\",\n",
    "    embedding_function=embeddings\n",
    ")\n",
    "\n",
    "answer_parent_docstore = InMemoryStore()\n",
    "\n",
    "answer_parent_retriever = ParentDocumentRetriever(\n",
    "    vectorstore=answer_parent_child_vectorstore,\n",
    "    docstore=answer_parent_docstore,\n",
    "    child_splitter=text_splitter,\n",
    "    parent_splitter=parent_splitter,\n",
    "    search_kwargs={\"k\": K_PARENT}\n",
    ")\n",
    "\n",
    "print(\"   Adding answer documents to Parent Document Retriever in batches...\")\n",
    "BATCH_SIZE = 1000  # Process 1000 documents at a time\n",
    "total_docs = len(answer_documents)\n",
    "for i in range(0, total_docs, BATCH_SIZE):\n",
    "    batch = answer_documents[i:i+BATCH_SIZE]\n",
    "    answer_parent_retriever.add_documents(batch)\n",
    "    print(f\"      Processed {min(i+BATCH_SIZE, total_docs)}/{total_docs} documents...\")\n",
    "\n",
    "print(f\"✅ Answer-based Parent Document retriever ready (k={K_PARENT})\")\n"
   ]
  },
  {
   "cell_type": "markdown",
   "id": "0c238aac",
   "metadata": {},
   "source": [
    "### 4.2 MMR Retriever - Answers\n",
    "\n"
   ]
  },
  {
   "cell_type": "code",
   "execution_count": 12,
   "id": "9248180c",
   "metadata": {},
   "outputs": [
    {
     "name": "stdout",
     "output_type": "stream",
     "text": [
      "🗄️ Building MMR Retriever (Answer-based)...\n",
      "✅ Answer-based MMR retriever ready (k=5)\n",
      "   λ (diversity): 0.5\n",
      "   fetch_k: 20\n"
     ]
    }
   ],
   "source": [
    "# Build MMR Retriever with Answer embeddings\n",
    "print(\"🗄️ Building MMR Retriever (Answer-based)...\")\n",
    "answer_mmr_retriever = answer_base_vectorstore.as_retriever(\n",
    "    search_type=\"mmr\",\n",
    "    search_kwargs={\n",
    "        \"k\": K_MMR,\n",
    "        \"fetch_k\": K_MMR * 4,\n",
    "        \"lambda_mult\": MMR_DIVERSITY_LAMBDA\n",
    "    }\n",
    ")\n",
    "print(f\"✅ Answer-based MMR retriever ready (k={K_MMR})\")\n",
    "print(f\"   λ (diversity): {MMR_DIVERSITY_LAMBDA}\")\n",
    "print(f\"   fetch_k: {K_MMR * 4}\")\n"
   ]
  },
  {
   "cell_type": "code",
   "execution_count": 14,
   "id": "eacc76ad",
   "metadata": {},
   "outputs": [],
   "source": [
    "# # Build Self-Query Retriever\n",
    "# print(\"🗄️ Building Self-Query Retriever...\")\n",
    "\n",
    "# # Create Chroma vector store for Self-Query (FAISS not supported)\n",
    "# print(\"   Creating Chroma vector store...\")\n",
    "# self_query_vectorstore = Chroma.from_documents(\n",
    "#     documents=child_chunks,\n",
    "#     embedding=embeddings,\n",
    "#     collection_name=\"financial_qa_self_query\"\n",
    "# )\n",
    "\n",
    "# # Define metadata fields for self-querying\n",
    "# metadata_field_info = [\n",
    "#     AttributeInfo(\n",
    "#         name=\"ticker\",\n",
    "#         description=\"Stock ticker symbol (e.g., NVDA, AAPL, MSFT)\",\n",
    "#         type=\"string\",\n",
    "#     ),\n",
    "#     AttributeInfo(\n",
    "#         name=\"filing\",\n",
    "#         description=\"SEC filing type (e.g., 2023_10K, 2022_10K)\",\n",
    "#         type=\"string\",\n",
    "#     ),\n",
    "#     AttributeInfo(\n",
    "#         name=\"company_name\",\n",
    "#         description=\"Company name (e.g., NVIDIA, Apple, Microsoft)\",\n",
    "#         type=\"string\",\n",
    "#     ),\n",
    "# ]\n",
    "\n",
    "# document_content_description = \"Financial question-answer context from 10-K filings\"\n",
    "\n",
    "# # Create self-query retriever\n",
    "# try:\n",
    "#     self_query_retriever = SelfQueryRetriever.from_llm(\n",
    "#         llm=llm,\n",
    "#         vectorstore=self_query_vectorstore,\n",
    "#         document_contents=document_content_description,\n",
    "#         metadata_field_info=metadata_field_info,\n",
    "#         verbose=False,\n",
    "#         search_kwargs={\"k\": max(TOPK_LIST)}\n",
    "#     )\n",
    "#     print(f\"✅ Self-Query retriever ready with Chroma\")\n",
    "#     print(f\"   Metadata filters: ticker, filing, company_name\")\n",
    "# except Exception as e:\n",
    "#     print(f\"⚠️ Self-Query retriever setup failed: {e}\")\n",
    "#     print(f\"   Will fall back to base retriever for evaluation\")\n",
    "#     self_query_retriever = base_retriever  # Fallback\n"
   ]
  },
  {
   "cell_type": "markdown",
   "id": "dd942d35",
   "metadata": {},
   "source": [
    "### 4.5 Multi-Query Retriever\n",
    "\n",
    "Generates multiple paraphrases of the query using LLM, then retrieves and merges results from all variants.\n"
   ]
  },
  {
   "cell_type": "code",
   "execution_count": 15,
   "id": "137c27d9",
   "metadata": {},
   "outputs": [],
   "source": [
    "# # Build Multi-Query Retriever\n",
    "# print(\"🗄️ Building Multi-Query Retriever...\")\n",
    "\n",
    "# # Custom prompt for query generation\n",
    "# multi_query_prompt = PromptTemplate(\n",
    "#     input_variables=[\"question\"],\n",
    "#     template=\"\"\"You are an AI assistant. Generate {n} different versions of the given financial question \n",
    "# to retrieve relevant documents from a vector database. Provide these alternative queries separated by newlines.\n",
    "# Focus on preserving the core intent while varying the wording.\n",
    "\n",
    "# Original question: {{question}}\n",
    "\n",
    "# Alternative questions:\"\"\".replace(\"{n}\", str(MULTI_QUERY_N))\n",
    "# )\n",
    "\n",
    "# # Create multi-query retriever\n",
    "# try:\n",
    "#     multi_query_retriever = MultiQueryRetriever.from_llm(\n",
    "#         retriever=base_vectorstore.as_retriever(search_kwargs={\"k\": max(TOPK_LIST)}),\n",
    "#         llm=llm,\n",
    "#         prompt=multi_query_prompt\n",
    "#     )\n",
    "#     print(f\"✅ Multi-Query retriever ready\")\n",
    "#     print(f\"   Query expansions: {MULTI_QUERY_N}\")\n",
    "# except Exception as e:\n",
    "#     print(f\"⚠️ Multi-Query retriever setup failed: {e}\")\n",
    "#     print(f\"   Will fall back to base retriever for evaluation\")\n",
    "#     multi_query_retriever = base_retriever  # Fallback\n"
   ]
  },
  {
   "cell_type": "code",
   "execution_count": 16,
   "id": "dd53b61e",
   "metadata": {},
   "outputs": [
    {
     "name": "stdout",
     "output_type": "stream",
     "text": [
      "✅ Evaluation utility functions defined:\n",
      "   - is_relevant()\n",
      "   - compute_recall_at_k()\n",
      "   - compute_precision_at_k()\n",
      "   - compute_mrr_at_k()\n"
     ]
    }
   ],
   "source": [
    "def extract_doc_id(doc: Document) -> str:\n",
    "    \"\"\"Extract doc_id from a retrieved document's metadata.\"\"\"\n",
    "    return doc.metadata.get('doc_id', '')\n",
    "\n",
    "def is_relevant(retrieved_doc: Document, gold_doc_id: str, gold_context: str) -> bool:\n",
    "    \"\"\"Check if retrieved document is relevant to the question's gold context.\"\"\"\n",
    "    retrieved_doc_id = extract_doc_id(retrieved_doc)\n",
    "    \n",
    "    # Direct doc_id match\n",
    "    if retrieved_doc_id == gold_doc_id:\n",
    "        return True\n",
    "    \n",
    "    # Check if gold context is substring of retrieved content\n",
    "    if gold_context in retrieved_doc.page_content:\n",
    "        return True\n",
    "    \n",
    "    return False\n",
    "\n",
    "def compute_recall_at_k(retrieved_docs: List[Document], gold_doc_id: str, gold_context: str, k: int) -> float:\n",
    "    \"\"\"Recall@k: Was the gold document retrieved in top-k?\"\"\"\n",
    "    if k > len(retrieved_docs):\n",
    "        k = len(retrieved_docs)\n",
    "    \n",
    "    for doc in retrieved_docs[:k]:\n",
    "        if is_relevant(doc, gold_doc_id, gold_context):\n",
    "            return 1.0\n",
    "    return 0.0\n",
    "\n",
    "def compute_precision_at_k(retrieved_docs: List[Document], gold_doc_id: str, gold_context: str, k: int) -> float:\n",
    "    \"\"\"Precision@k: Fraction of top-k that are relevant.\"\"\"\n",
    "    if k > len(retrieved_docs):\n",
    "        k = len(retrieved_docs)\n",
    "    if k == 0:\n",
    "        return 0.0\n",
    "    \n",
    "    relevant_count = sum(\n",
    "        1 for doc in retrieved_docs[:k] \n",
    "        if is_relevant(doc, gold_doc_id, gold_context)\n",
    "    )\n",
    "    return relevant_count / k\n",
    "\n",
    "def compute_mrr_at_k(retrieved_docs: List[Document], gold_doc_id: str, gold_context: str, k: int) -> float:\n",
    "    \"\"\"MRR@k: 1/rank of first relevant doc in top-k, else 0.\"\"\"\n",
    "    if k > len(retrieved_docs):\n",
    "        k = len(retrieved_docs)\n",
    "    \n",
    "    for rank, doc in enumerate(retrieved_docs[:k], start=1):\n",
    "        if is_relevant(doc, gold_doc_id, gold_context):\n",
    "            return 1.0 / rank\n",
    "    return 0.0\n",
    "\n",
    "# def compute_ndcg_at_k(retrieved_docs: List[Document], gold_doc_id: str, gold_context: str, k: int) -> float:\n",
    "#     \"\"\"nDCG@k: Normalized Discounted Cumulative Gain with binary relevance.\"\"\"\n",
    "#     if k > len(retrieved_docs):\n",
    "#         k = len(retrieved_docs)\n",
    "#     if k == 0:\n",
    "#         return 0.0\n",
    "    \n",
    "#     # DCG: sum of rel_i / log2(i+1)\n",
    "#     dcg = 0.0\n",
    "#     for rank, doc in enumerate(retrieved_docs[:k], start=1):\n",
    "#         relevance = 1.0 if is_relevant(doc, gold_doc_id, gold_context) else 0.0\n",
    "#         dcg += relevance / np.log2(rank + 1)\n",
    "    \n",
    "#     # IDCG: ideal ranking (all relevant docs at top)\n",
    "#     # In our case, there's typically 1 relevant doc, so IDCG = 1/log2(2) = 1.0\n",
    "#     idcg = 1.0 / np.log2(2)  # Assuming 1 relevant doc\n",
    "    \n",
    "#     return dcg / idcg if idcg > 0 else 0.0\n",
    "\n",
    "print(\"✅ Evaluation utility functions defined:\")\n",
    "print(\"   - is_relevant()\")\n",
    "print(\"   - compute_recall_at_k()\")\n",
    "print(\"   - compute_precision_at_k()\")\n",
    "print(\"   - compute_mrr_at_k()\")\n",
    "# print(\"   - compute_ndcg_at_k()\")\n"
   ]
  },
  {
   "cell_type": "markdown",
   "id": "47128513",
   "metadata": {},
   "source": [
    "### Bootstrap Confidence Intervals\n",
    "\n",
    "Compute 95% CIs via bootstrapping for robust uncertainty estimates across questions.\n"
   ]
  },
  {
   "cell_type": "code",
   "execution_count": 17,
   "id": "500b713c",
   "metadata": {},
   "outputs": [
    {
     "name": "stdout",
     "output_type": "stream",
     "text": [
      "✅ Bootstrap CI function defined\n",
      "   Resamples: 1000\n",
      "   Confidence level: 95%\n"
     ]
    }
   ],
   "source": [
    "def bootstrap_ci(values: List[float], n_bootstrap: int = N_BOOTSTRAP, confidence: float = 0.95) -> Tuple[float, float, float]:\n",
    "    \"\"\"\n",
    "    Compute mean and bootstrap confidence interval.\n",
    "    \n",
    "    Returns:\n",
    "        (mean, ci_lower, ci_upper)\n",
    "    \"\"\"\n",
    "    if len(values) == 0:\n",
    "        return 0.0, 0.0, 0.0\n",
    "    \n",
    "    values_array = np.array(values)\n",
    "    mean_val = np.mean(values_array)\n",
    "    \n",
    "    # Bootstrap resampling\n",
    "    bootstrap_means = []\n",
    "    rng = np.random.RandomState(SEED)\n",
    "    \n",
    "    for _ in range(n_bootstrap):\n",
    "        sample = rng.choice(values_array, size=len(values_array), replace=True)\n",
    "        bootstrap_means.append(np.mean(sample))\n",
    "    \n",
    "    # Compute confidence interval\n",
    "    alpha = 1 - confidence\n",
    "    ci_lower = np.percentile(bootstrap_means, alpha/2 * 100)\n",
    "    ci_upper = np.percentile(bootstrap_means, (1 - alpha/2) * 100)\n",
    "    \n",
    "    return mean_val, ci_lower, ci_upper\n",
    "\n",
    "print(\"✅ Bootstrap CI function defined\")\n",
    "print(f\"   Resamples: {N_BOOTSTRAP}\")\n",
    "print(f\"   Confidence level: 95%\")\n"
   ]
  },
  {
   "cell_type": "markdown",
   "id": "ecb38c8d",
   "metadata": {},
   "source": [
    "## 6. Run Evaluation\n",
    "\n",
    "Evaluate all five retrievers across the financial QA dataset at k=1, 3, 5.\n"
   ]
  },
  {
   "cell_type": "code",
   "execution_count": 18,
   "id": "c040836e",
   "metadata": {},
   "outputs": [
    {
     "name": "stdout",
     "output_type": "stream",
     "text": [
      "🔍 Configured retrievers for evaluation:\n",
      "Context-based:\n",
      "   - Base Dense (Context) (k=5)\n",
      "   - Parent Document (Context) (k=5)\n",
      "   - MMR (Context) (k=5)\n",
      "Answer-based:\n",
      "   - Base Dense (Answer) (k=5)\n",
      "   - Parent Document (Answer) (k=5)\n",
      "   - MMR (Answer) (k=5)\n",
      "\n",
      "📊 Evaluation plan:\n",
      "   Total retrievers: 6\n",
      "   Questions: 7000\n",
      "   Metrics: Recall@k, Precision@k, MRR@k (nDCG removed)\n"
     ]
    }
   ],
   "source": [
    "# Configure retrievers dictionary with their specific k values\n",
    "retrievers = {\n",
    "    \"Base Dense (Context)\": {\"retriever\": base_retriever, \"k\": K_BASE},\n",
    "    \"Parent Document (Context)\": {\"retriever\": parent_retriever, \"k\": K_PARENT},\n",
    "    \"MMR (Context)\": {\"retriever\": mmr_retriever, \"k\": K_MMR},\n",
    "    \"Base Dense (Answer)\": {\"retriever\": answer_base_retriever, \"k\": K_BASE},\n",
    "    \"Parent Document (Answer)\": {\"retriever\": answer_parent_retriever, \"k\": K_PARENT},\n",
    "    \"MMR (Answer)\": {\"retriever\": answer_mmr_retriever, \"k\": K_MMR},\n",
    "}\n",
    "\n",
    "print(\"🔍 Configured retrievers for evaluation:\")\n",
    "print(\"Context-based:\")\n",
    "for name, config in list(retrievers.items())[:3]:\n",
    "    print(f\"   - {name} (k={config['k']})\")\n",
    "print(\"Answer-based:\")\n",
    "for name, config in list(retrievers.items())[3:]:\n",
    "    print(f\"   - {name} (k={config['k']})\")\n",
    "print(f\"\\n📊 Evaluation plan:\")\n",
    "print(f\"   Total retrievers: {len(retrievers)}\")\n",
    "print(f\"   Questions: {len(financial_qa)}\")\n",
    "print(f\"   Metrics: Recall@k, Precision@k, MRR@k (nDCG removed)\")\n"
   ]
  },
  {
   "cell_type": "code",
   "execution_count": 19,
   "id": "f5a0f9ea",
   "metadata": {},
   "outputs": [
    {
     "name": "stdout",
     "output_type": "stream",
     "text": [
      "🚀 Starting evaluation...\n",
      "======================================================================\n",
      "\n",
      "🔍 Evaluating Base Dense (Context) (k=5)...\n",
      "  Progress: 1000/7000 questions\n",
      "  Progress: 2000/7000 questions\n",
      "  Progress: 3000/7000 questions\n",
      "  Progress: 4000/7000 questions\n",
      "  Progress: 5000/7000 questions\n",
      "  Progress: 6000/7000 questions\n",
      "  Progress: 7000/7000 questions\n",
      "✅ Base Dense (Context) evaluation complete\n",
      "\n",
      "🔍 Evaluating Parent Document (Context) (k=5)...\n",
      "  Progress: 1000/7000 questions\n",
      "  Progress: 2000/7000 questions\n",
      "  Progress: 3000/7000 questions\n",
      "  Progress: 4000/7000 questions\n",
      "  Progress: 5000/7000 questions\n",
      "  Progress: 6000/7000 questions\n",
      "  Progress: 7000/7000 questions\n",
      "✅ Parent Document (Context) evaluation complete\n",
      "\n",
      "🔍 Evaluating MMR (Context) (k=5)...\n",
      "  Progress: 1000/7000 questions\n",
      "  Progress: 2000/7000 questions\n",
      "  Progress: 3000/7000 questions\n",
      "  Progress: 4000/7000 questions\n",
      "  Progress: 5000/7000 questions\n",
      "  Progress: 6000/7000 questions\n",
      "  Progress: 7000/7000 questions\n",
      "✅ MMR (Context) evaluation complete\n",
      "\n",
      "🔍 Evaluating Base Dense (Answer) (k=5)...\n",
      "  Progress: 1000/7000 questions\n",
      "  Progress: 2000/7000 questions\n",
      "  Progress: 3000/7000 questions\n",
      "  Progress: 4000/7000 questions\n",
      "  Progress: 5000/7000 questions\n",
      "  Progress: 6000/7000 questions\n",
      "  Progress: 7000/7000 questions\n",
      "✅ Base Dense (Answer) evaluation complete\n",
      "\n",
      "🔍 Evaluating Parent Document (Answer) (k=5)...\n",
      "  Progress: 1000/7000 questions\n",
      "  Progress: 2000/7000 questions\n",
      "  Progress: 3000/7000 questions\n",
      "  Progress: 4000/7000 questions\n",
      "  Progress: 5000/7000 questions\n",
      "  Progress: 6000/7000 questions\n",
      "  Progress: 7000/7000 questions\n",
      "✅ Parent Document (Answer) evaluation complete\n",
      "\n",
      "🔍 Evaluating MMR (Answer) (k=5)...\n",
      "  Progress: 1000/7000 questions\n",
      "  Progress: 2000/7000 questions\n",
      "  Progress: 3000/7000 questions\n",
      "  Progress: 4000/7000 questions\n",
      "  Progress: 5000/7000 questions\n",
      "  Progress: 6000/7000 questions\n",
      "  Progress: 7000/7000 questions\n",
      "✅ MMR (Answer) evaluation complete\n",
      "\n",
      "======================================================================\n",
      "✅ All evaluations complete!\n"
     ]
    }
   ],
   "source": [
    "# Run evaluation across all retrievers and questions\n",
    "print(\"🚀 Starting evaluation...\")\n",
    "print(f\"{'='*70}\")\n",
    "\n",
    "# Store results: {retriever_name: {question_idx: {metric: value}}}\n",
    "results = defaultdict(lambda: defaultdict(dict))\n",
    "\n",
    "for retriever_name, config in retrievers.items():\n",
    "    retriever = config['retriever']\n",
    "    k = config['k']\n",
    "    \n",
    "    print(f\"\\n🔍 Evaluating {retriever_name} (k={k})...\")\n",
    "    \n",
    "    for question_idx, record in enumerate(financial_qa):\n",
    "        # Use original question\n",
    "        question_to_use = record['question']\n",
    "        gold_doc_id = record['doc_id']\n",
    "        gold_context = record['context']\n",
    "        \n",
    "        # Retrieve documents\n",
    "        try:\n",
    "            retrieved_docs = retriever.invoke(question_to_use)\n",
    "        except Exception as e:\n",
    "            print(f\"  ⚠️ Error retrieving for Q{question_idx}: {e}\")\n",
    "            retrieved_docs = []\n",
    "        \n",
    "        # Compute metrics at the specific k for this retriever (no nDCG)\n",
    "        results[retriever_name][question_idx] = {\n",
    "            'k': k,\n",
    "            'recall': compute_recall_at_k(retrieved_docs, gold_doc_id, gold_context, k),\n",
    "            'precision': compute_precision_at_k(retrieved_docs, gold_doc_id, gold_context, k),\n",
    "            'mrr': compute_mrr_at_k(retrieved_docs, gold_doc_id, gold_context, k)\n",
    "        }\n",
    "        \n",
    "        # Progress indicator\n",
    "        if (question_idx + 1) % 1000 == 0:\n",
    "            print(f\"  Progress: {question_idx + 1}/{len(financial_qa)} questions\")\n",
    "    \n",
    "    print(f\"✅ {retriever_name} evaluation complete\")\n",
    "\n",
    "print(f\"\\n{'='*70}\")\n",
    "print(\"✅ All evaluations complete!\")\n"
   ]
  },
  {
   "cell_type": "markdown",
   "id": "53d09dbf",
   "metadata": {},
   "source": [
    "## 7. Aggregate Results & Compute Confidence Intervals\n",
    "\n",
    "Compute mean metrics and bootstrap 95% CIs across all questions for each retriever and k value.\n"
   ]
  },
  {
   "cell_type": "code",
   "execution_count": 20,
   "id": "c8e20230",
   "metadata": {},
   "outputs": [
    {
     "name": "stdout",
     "output_type": "stream",
     "text": [
      "📊 Aggregating results...\n",
      "✅ Aggregation complete\n",
      "   Total result rows: 18\n",
      "\n",
      "📊 Sample results:\n",
      "|    | Retriever                 |   k | Metric      |     Mean |   CI_Lower |   CI_Upper |       Std |\n",
      "|---:|:--------------------------|----:|:------------|---------:|-----------:|-----------:|----------:|\n",
      "|  0 | Base Dense (Context)      |   5 | recall@5    | 0.790714 |   0.780568 |   0.800714 | 0.406799  |\n",
      "|  1 | Base Dense (Context)      |   5 | precision@5 | 0.1794   |   0.176629 |   0.182343 | 0.116833  |\n",
      "|  2 | Base Dense (Context)      |   5 | mrr@5       | 0.683652 |   0.673676 |   0.693851 | 0.420682  |\n",
      "|  3 | Parent Document (Context) |   5 | recall@5    | 0.791    |   0.780854 |   0.801    | 0.406594  |\n",
      "|  4 | Parent Document (Context) |   5 | precision@5 | 0.173264 |   0.170733 |   0.175824 | 0.104721  |\n",
      "|  5 | Parent Document (Context) |   5 | mrr@5       | 0.684455 |   0.674412 |   0.694289 | 0.420275  |\n",
      "|  6 | MMR (Context)             |   5 | recall@5    | 0.722571 |   0.712286 |   0.733429 | 0.44773   |\n",
      "|  7 | MMR (Context)             |   5 | precision@5 | 0.150714 |   0.148429 |   0.1532   | 0.0999974 |\n",
      "|  8 | MMR (Context)             |   5 | mrr@5       | 0.659424 |   0.64885  |   0.670331 | 0.447134  |\n",
      "|  9 | Base Dense (Answer)       |   5 | recall@5    | 0.593714 |   0.581429 |   0.604286 | 0.491139  |\n",
      "| 10 | Base Dense (Answer)       |   5 | precision@5 | 0.126057 |   0.123486 |   0.128543 | 0.111539  |\n",
      "| 11 | Base Dense (Answer)       |   5 | mrr@5       | 0.536183 |   0.524919 |   0.546355 | 0.476862  |\n",
      "| 12 | Parent Document (Answer)  |   5 | recall@5    | 0.593143 |   0.580568 |   0.603857 | 0.491248  |\n",
      "| 13 | Parent Document (Answer)  |   5 | precision@5 | 0.12301  |   0.120395 |   0.125296 | 0.104078  |\n",
      "| 14 | Parent Document (Answer)  |   5 | mrr@5       | 0.535662 |   0.524053 |   0.545904 | 0.476821  |\n",
      "| 15 | MMR (Answer)              |   5 | recall@5    | 0.561857 |   0.549282 |   0.573143 | 0.496159  |\n",
      "| 16 | MMR (Answer)              |   5 | precision@5 | 0.114714 |   0.112199 |   0.117029 | 0.103871  |\n",
      "| 17 | MMR (Answer)              |   5 | mrr@5       | 0.52504  |   0.513551 |   0.535517 | 0.484662  |\n"
     ]
    }
   ],
   "source": [
    "# Aggregate results into structured format\n",
    "print(\"📊 Aggregating results...\")\n",
    "\n",
    "metrics_list = ['recall', 'precision', 'mrr']  # Removed nDCG\n",
    "aggregated_data = []\n",
    "\n",
    "for retriever_name in retrievers.keys():\n",
    "    # Get k value for this retriever\n",
    "    k = retrievers[retriever_name]['k']\n",
    "    \n",
    "    for metric in metrics_list:\n",
    "        # Collect all values for this retriever/metric combination\n",
    "        values = [\n",
    "            results[retriever_name][q_idx][metric]\n",
    "            for q_idx in range(len(financial_qa))\n",
    "        ]\n",
    "        \n",
    "        # Compute mean and CI\n",
    "        mean_val, ci_lower, ci_upper = bootstrap_ci(values)\n",
    "        \n",
    "        aggregated_data.append({\n",
    "            'Retriever': retriever_name,\n",
    "            'k': k,\n",
    "            'Metric': f'{metric}@{k}',\n",
    "            'Mean': mean_val,\n",
    "            'CI_Lower': ci_lower,\n",
    "            'CI_Upper': ci_upper,\n",
    "            'Std': np.std(values)\n",
    "        })\n",
    "\n",
    "# Create DataFrame\n",
    "df_results = pd.DataFrame(aggregated_data)\n",
    "\n",
    "print(f\"✅ Aggregation complete\")\n",
    "print(f\"   Total result rows: {len(df_results)}\")\n",
    "print(f\"\\n📊 Sample results:\")\n",
    "print(df_results.to_markdown())\n"
   ]
  },
  {
   "cell_type": "code",
   "execution_count": 22,
   "id": "7b2ee81a",
   "metadata": {},
   "outputs": [
    {
     "name": "stdout",
     "output_type": "stream",
     "text": [
      "💾 Saved metrics summary to: ARTIFACTS folder\n",
      "   Shape: (42000, 6)\n"
     ]
    }
   ],
   "source": [
    "# Save aggregated results to CSV\n",
    "metrics_summary_path = ARTIFACTS_DIR / \"metrics_summary.csv\"\n",
    "df_results.to_csv(metrics_summary_path, index=False)\n",
    "print(f\"💾 Saved metrics summary to: ARTIFACTS folder\")\n",
    "\n",
    "# Create per-question results DataFrame (for deeper analysis)\n",
    "per_question_data = []\n",
    "for retriever_name in retrievers.keys():\n",
    "    k = retrievers[retriever_name]['k']\n",
    "    for q_idx in range(len(financial_qa)):\n",
    "        per_question_data.append({\n",
    "            'retriever': retriever_name,\n",
    "            'question_idx': q_idx,\n",
    "            **results[retriever_name][q_idx]\n",
    "        })\n",
    "\n",
    "df_per_question = pd.DataFrame(per_question_data)\n",
    "per_question_path = ARTIFACTS_DIR / \"per_question_results.parquet\"\n",
    "df_per_question.to_parquet(per_question_path, index=False)\n",
    "print(f\"   Shape: {df_per_question.shape}\")\n"
   ]
  },
  {
   "cell_type": "markdown",
   "id": "d02827f0",
   "metadata": {},
   "source": [
    "## 8. Visualizations\n",
    "\n",
    "Create bar charts for each metric comparing all retrievers with 95% confidence intervals.\n"
   ]
  },
  {
   "cell_type": "code",
   "execution_count": 23,
   "id": "45d15465",
   "metadata": {},
   "outputs": [
    {
     "name": "stdout",
     "output_type": "stream",
     "text": [
      "🎨 Plotting configuration ready\n",
      "   Metrics to plot: ['recall', 'precision', 'mrr']\n"
     ]
    }
   ],
   "source": [
    "# Configure plotting style\n",
    "sns.set_style(\"whitegrid\")\n",
    "plt.rcParams['figure.dpi'] = 100\n",
    "plt.rcParams['font.size'] = 11\n",
    "\n",
    "# Color palette for retrievers\n",
    "retriever_colors = {\n",
    "    \"Base Dense (Context)\": \"#1f77b4\",\n",
    "    \"Parent Document (Context)\": \"#ff7f0e\", \n",
    "    \"MMR (Context)\": \"#2ca02c\",\n",
    "    \"Base Dense (Answer)\": \"#8ecae6\",\n",
    "    \"Parent Document (Answer)\": \"#ffb703\",\n",
    "    \"MMR (Answer)\": \"#90ee90\"\n",
    "}\n",
    "\n",
    "metrics = ['recall', 'precision', 'mrr']  # Removed nDCG\n",
    "\n",
    "print(\"🎨 Plotting configuration ready\")\n",
    "print(f\"   Metrics to plot: {metrics}\")\n"
   ]
  },
  {
   "cell_type": "code",
   "execution_count": 24,
   "id": "5f0825e9",
   "metadata": {},
   "outputs": [
    {
     "name": "stdout",
     "output_type": "stream",
     "text": [
      "💾 Saved recall plot to: ARTIFACTS folder\n"
     ]
    },
    {
     "data": {
      "image/png": "[encoded data removed]",
      "text/plain": [
       "<Figure size 1200x600 with 1 Axes>"
      ]
     },
     "metadata": {},
     "output_type": "display_data"
    },
    {
     "name": "stdout",
     "output_type": "stream",
     "text": [
      "💾 Saved precision plot to: ARTIFACTS folder\n"
     ]
    },
    {
     "data": {
      "image/png": "[encoded data removed]",
      "text/plain": [
       "<Figure size 1200x600 with 1 Axes>"
      ]
     },
     "metadata": {},
     "output_type": "display_data"
    },
    {
     "name": "stdout",
     "output_type": "stream",
     "text": [
      "💾 Saved mrr plot to: ARTIFACTS folder\n"
     ]
    },
    {
     "data": {
      "image/png": "[encoded data removed]",
      "text/plain": [
       "<Figure size 1200x600 with 1 Axes>"
      ]
     },
     "metadata": {},
     "output_type": "display_data"
    },
    {
     "name": "stdout",
     "output_type": "stream",
     "text": [
      "\n",
      "✅ Individual metric plots complete!\n"
     ]
    }
   ],
   "source": [
    "# Create individual plots for each metric\n",
    "for metric in metrics:\n",
    "    fig, ax = plt.subplots(figsize=(12, 6))\n",
    "    \n",
    "    # Filter data for this metric\n",
    "    metric_df = df_results[df_results['Metric'].str.startswith(metric)]\n",
    "    \n",
    "    # Create bar chart with retrievers on x-axis\n",
    "    x = np.arange(len(retrievers))\n",
    "    retriever_names = list(retrievers.keys())\n",
    "    \n",
    "    means = []\n",
    "    ci_lowers = []\n",
    "    ci_uppers = []\n",
    "    colors = []\n",
    "    \n",
    "    for retriever_name in retriever_names:\n",
    "        ret_data = metric_df[metric_df['Retriever'] == retriever_name]\n",
    "        means.append(ret_data['Mean'].values[0])\n",
    "        ci_lowers.append(ret_data['CI_Lower'].values[0])\n",
    "        ci_uppers.append(ret_data['CI_Upper'].values[0])\n",
    "        colors.append(retriever_colors.get(retriever_name, 'gray'))\n",
    "    \n",
    "    means = np.array(means)\n",
    "    ci_lowers = np.array(ci_lowers)\n",
    "    ci_uppers = np.array(ci_uppers)\n",
    "    errors = [means - ci_lowers, ci_uppers - means]\n",
    "    \n",
    "    bars = ax.bar(x, means, \n",
    "                  color=colors,\n",
    "                  yerr=errors,\n",
    "                  capsize=4,\n",
    "                  alpha=0.85)\n",
    "    \n",
    "    # Formatting\n",
    "    ax.set_xlabel('Retriever', fontsize=14, fontweight='bold')\n",
    "    ax.set_ylabel(f'{metric.capitalize()}@k', fontsize=14, fontweight='bold')\n",
    "    ax.set_title(f'{metric.upper()}@k: Retriever Comparison with 95% CI', \n",
    "                 fontsize=16, fontweight='bold')\n",
    "    ax.set_xticks(x)\n",
    "    ax.set_xticklabels(retriever_names, rotation=15, ha='right')\n",
    "    ax.grid(axis='y', alpha=0.3, linestyle='--')\n",
    "    ax.set_ylim(0, 1.05)\n",
    "    \n",
    "    # Add value labels on bars\n",
    "    for i, (mean, retriever_name) in enumerate(zip(means, retriever_names)):\n",
    "        k_val = retrievers[retriever_name]['k']\n",
    "        if mean > 0.05:\n",
    "            ax.text(i, mean + 0.02, f'{mean:.2f}\\n(k={k_val})', \n",
    "                   ha='center', va='bottom', fontsize=9)\n",
    "    \n",
    "    plt.tight_layout()\n",
    "    plot_path = PLOTS_DIR / f\"{metric}_comparison.png\"\n",
    "    plt.savefig(plot_path, dpi=300, bbox_inches='tight')\n",
    "    print(f\"💾 Saved {metric} plot to: ARTIFACTS folder\")\n",
    "    plt.show()\n",
    "\n",
    "print(\"\\n✅ Individual metric plots complete!\")\n"
   ]
  },
  {
   "cell_type": "markdown",
   "id": "2014df39",
   "metadata": {},
   "source": [
    "## 9. Qualitative Spot-Checks\n",
    "\n",
    "Examine a few sample questions to see which retrievers found the relevant context and at what rank.\n"
   ]
  },
  {
   "cell_type": "code",
   "execution_count": null,
   "id": "576a37b6",
   "metadata": {},
   "outputs": [],
   "source": [
    "# Select sample questions for spot-checking\n",
    "sample_indices = [0, 15, 85, 150, 225] if len(financial_qa) > 75 else list(range(min(5, len(financial_qa))))\n",
    "\n",
    "print(\"🔍 Qualitative Spot-Check: Sample Questions\\n\")\n",
    "print(\"=\"*80)\n",
    "\n",
    "for q_idx in sample_indices:\n",
    "    if q_idx >= len(financial_qa):\n",
    "        continue\n",
    "        \n",
    "    record = financial_qa[q_idx]\n",
    "    print(f\"\\n📌 Question #{q_idx}\")\n",
    "    print(f\"   Q: {record['question'][:120]}...\")\n",
    "    print(f\"   Gold Context: {record['context'][:100]}...\")\n",
    "    print(f\"   Metadata: {record['ticker']} | {record['filing']} | {record['company_name']}\")\n",
    "    print(f\"\\n   Retriever Performance (finding gold doc):\")\n",
    "    \n",
    "    # Check which retrievers found the gold doc\n",
    "    for retriever_name in retrievers.keys():\n",
    "        k = retrievers[retriever_name]['k']\n",
    "        recall = results[retriever_name][q_idx]['recall']\n",
    "        \n",
    "        # Determine status\n",
    "        if recall == 1.0:\n",
    "            status = f\"✅ Found (k={k})\"\n",
    "        else:\n",
    "            status = f\"❌ Not found (k={k})\"\n",
    "        \n",
    "        print(f\"      {retriever_name:30s}: {status}\")\n",
    "    \n",
    "    print(\"-\"*80)\n",
    "\n",
    "print(\"\\n✅ Spot-check complete!\")\n"
   ]
  }
 ],
 "metadata": {
  "kernelspec": {
   "display_name": "retrievers",
   "language": "python",
   "name": "python3"
  },
  "language_info": {
   "codemirror_mode": {
    "name": "ipython",
    "version": 3
   },
   "file_extension": ".py",
   "mimetype": "text/x-python",
   "name": "python",
   "nbconvert_exporter": "python",
   "pygments_lexer": "ipython3",
   "version": "3.11.13"
  }
 },
 "nbformat": 4,
 "nbformat_minor": 5
}
