{
  "cells": [
    {
      "cell_type": "markdown",
      "metadata": {},
      "source": [
        "# Comparing LangChain Retrievers: Basic, Parent, and MMR\n",
        "\n",
        "When building a RAG (Retrieval-Augmented Generation) pipeline, most people obsess over embeddings and LLM choice.  \n",
        "But **retrievers are just as important**: they decide what information the model sees.  \n",
        "\n",
        "This notebook shows how different retrievers (Basic, Parent, MMR, and a Hybrid) behave in practice, and when to use which one.\n"
      ]
    },
    {
      "cell_type": "markdown",
      "metadata": {},
      "source": [
        "##  0. Setup and Imports\n",
        "\n",
        "First, let's import all the necessary libraries and set up our environment.\n"
      ]
    },
    {
      "cell_type": "code",
      "execution_count": 1,
      "metadata": {},
      "outputs": [
        {
          "name": "stderr",
          "output_type": "stream",
          "text": [
            "/home/erfan/.local/lib/python3.11/site-packages/tqdm/auto.py:21: TqdmWarning: IProgress not found. Please update jupyter and ipywidgets. See https://ipywidgets.readthedocs.io/en/stable/user_install.html\n",
            "  from .autonotebook import tqdm as notebook_tqdm\n"
          ]
        },
        {
          "name": "stdout",
          "output_type": "stream",
          "text": [
            "✅ All imports successful!\n"
          ]
        }
      ],
      "source": [
        "# Core LangChain imports\n",
        "from langchain.document_loaders import PyPDFLoader\n",
        "from langchain.text_splitter import RecursiveCharacterTextSplitter\n",
        "from langchain.embeddings import HuggingFaceEmbeddings\n",
        "from langchain.vectorstores import Chroma\n",
        "from langchain.retrievers import ParentDocumentRetriever\n",
        "from langchain.storage import InMemoryStore\n",
        "from langchain.docstore.document import Document\n",
        "from langchain_community.vectorstores import FAISS\n",
        "from langchain_huggingface.embeddings import HuggingFaceEmbeddings\n",
        "import os\n",
        "import sys\n",
        "import warnings\n",
        "import random\n",
        "warnings.filterwarnings('ignore')\n",
        "\n",
        "# Add project root to path\n",
        "sys.path.append('..')\n",
        "import config\n",
        "\n",
        "print(\"✅ All imports successful!\")\n"
      ]
    },
    {
      "cell_type": "markdown",
      "metadata": {},
      "source": [
        "### Downlaod and Load Embedding Model"
      ]
    },
    {
      "cell_type": "code",
      "execution_count": 2,
      "metadata": {},
      "outputs": [
        {
          "name": "stdout",
          "output_type": "stream",
          "text": [
            "🔤 Initializing embedding model...\n",
            "✅ Embedding model ready!\n"
          ]
        }
      ],
      "source": [
        "# Initialize embedding model\n",
        "print(\"🔤 Initializing embedding model...\")\n",
        "embeddings = HuggingFaceEmbeddings(\n",
        "    model_name=config.EMBEDDING_MODEL_PATH,\n",
        "    model_kwargs={'device': config.DEVICE},\n",
        "    cache_folder=config.EMBEDDING_MODEL_CACHE\n",
        ")\n",
        "print(\"✅ Embedding model ready!\")\n"
      ]
    },
    {
      "cell_type": "markdown",
      "metadata": {},
      "source": [
        "### You can use this code to download \"embedding gemma\" from the 🤗 Hub. Also specify to use the \"query\" and \"document\" prompts\n",
        "### Uncomment this code to download embedding gemma from the 🤗 Hub.\n"
      ]
    },
    {
      "cell_type": "code",
      "execution_count": null,
      "metadata": {},
      "outputs": [],
      "source": [
        "\n",
        "# embeddings = HuggingFaceEmbeddings(\n",
        "#     model_name=\"google/embeddinggemma-300m\",\n",
        "#     query_encode_kwargs={\"prompt_name\": \"query\"},\n",
        "#     encode_kwargs={\"prompt_name\": \"document\"},\n",
        "#     cache_folder=config.EMBEDDING_MODEL_CACHE\n",
        "# )"
      ]
    },
    {
      "cell_type": "markdown",
      "metadata": {},
      "source": [
        "# 1. Basic vs Parent Document Retrieval"
      ]
    },
    {
      "cell_type": "markdown",
      "metadata": {},
      "source": [
        "## 1.1 Data Preparation\n",
        "\n",
        "Let's load and prepare our document for both retrieval methods.\n"
      ]
    },
    {
      "cell_type": "markdown",
      "metadata": {},
      "source": [
        "## 1. Data Used for Basic vs Parent Document Retrieval\n",
        "\n",
        "**Source**: Business Conduct Policy PDF (20 pages)\n",
        "\n",
        "**Content**: Apple corporate policies, trademarks, intellectual property guidelines\n",
        "\n",
        "**Chunking Strategy**: 400-character chunks with 150-character overlap for basic retrieval\n",
        "\n",
        "**Why This Data**: Corporate documents where context preservation is crucial for accurate policy interpretation\n"
      ]
    },
    {
      "cell_type": "code",
      "execution_count": 3,
      "metadata": {},
      "outputs": [
        {
          "name": "stdout",
          "output_type": "stream",
          "text": [
            "📄 Loading PDF document...\n",
            "✅ Loaded 20 pages from PDF\n",
            "📊 Document preview (Index 14) : \n",
            " \n",
            "For more information about restrictions on tradin...\n"
          ]
        }
      ],
      "source": [
        "# Load the PDF document \n",
        "print(\"📄 Loading PDF document...\")\n",
        "loader = PyPDFLoader(os.path.join(config.DATA_DIR, \"Business-Conduct-Policy.pdf\"))\n",
        "documents = loader.load()\n",
        "for i in range(len(documents)):\n",
        "    documents[i].page_content=documents[i].page_content[108:]\n",
        "print(f\"✅ Loaded {len(documents)} pages from PDF\")\n",
        "rnd_index = random.randint(0, len(documents))\n",
        "print(f\"📊 Document preview (Index {rnd_index+1}) : \\n {documents[rnd_index].page_content[:50]}...\")\n"
      ]
    },
    {
      "cell_type": "code",
      "execution_count": 5,
      "metadata": {},
      "outputs": [
        {
          "name": "stdout",
          "output_type": "stream",
          "text": [
            "\n",
            "Gifts to Public Officials\n",
            "Apple permits providing gifts to public officials only when permissible under applicable laws and policies. A public official \n",
            "is any person who is paid with government funds or performs a public function. This includes individuals who are elected \n",
            "or appointed to public office, as well as individuals who work for local, state/provincial or national government, public \n",
            "i\n"
          ]
        }
      ],
      "source": [
        "print(documents[15].page_content[:400])"
      ]
    },
    {
      "cell_type": "markdown",
      "metadata": {},
      "source": [
        "## 1.2 Basic Retrieval Implementation\n",
        "\n",
        "### What is Basic Retrieval?\n",
        "Basic retrieval splits documents into chunks and stores them directly in a vector database. When you query, it retrieves the most similar chunks.\n",
        "\n",
        "**Pros:**\n",
        "- Simple to implement\n",
        "- Fast retrieval\n",
        "- Good for short, focused queries\n",
        "\n",
        "**Cons:**\n",
        "- May lose context from surrounding content\n",
        "- Chunks might be too small for complex questions\n",
        "\n",
        " **When to use Basic Retrieval:**  \n",
        "Use for short, focused queries when speed and simplicity are more important than deep context.  \n",
        "Examples: FAQs, small documents, quick lookups.\n",
        "\n"
      ]
    },
    {
      "cell_type": "code",
      "execution_count": 6,
      "metadata": {},
      "outputs": [
        {
          "name": "stdout",
          "output_type": "stream",
          "text": [
            "✂️ Splitting documents for basic retrieval...\n",
            "✅ Created 218 chunks for basic retrieval\n"
          ]
        }
      ],
      "source": [
        "# Create text splitter for basic retrieval\n",
        "text_splitter = RecursiveCharacterTextSplitter(\n",
        "    chunk_size=400,\n",
        "    chunk_overlap=150,\n",
        ")\n",
        "\n",
        "# Split documents into chunks\n",
        "print(\"✂️ Splitting documents for basic retrieval...\")\n",
        "basic_chunks = text_splitter.split_documents(documents)\n",
        "print(f\"✅ Created {len(basic_chunks)} chunks for basic retrieval\")\n"
      ]
    },
    {
      "cell_type": "code",
      "execution_count": 7,
      "metadata": {},
      "outputs": [
        {
          "name": "stdout",
          "output_type": "stream",
          "text": [
            "🗄️ Creating ChromaDB for basic retrieval...\n",
            "✅ Basic retrieval vectorstore created!\n"
          ]
        }
      ],
      "source": [
        "# Create ChromaDB vector store for basic retrieval\n",
        "print(\"🗄️ Creating ChromaDB for basic retrieval...\")\n",
        "basic_vectorstore = Chroma.from_documents(\n",
        "    documents=basic_chunks,\n",
        "    embedding=embeddings,\n",
        "    persist_directory=os.path.join(config.CHROMA_PERSIST_DIRECTORY, \"basic\")\n",
        ")\n",
        "print(\"✅ Basic retrieval vectorstore created!\")\n"
      ]
    },
    {
      "cell_type": "code",
      "execution_count": 8,
      "metadata": {},
      "outputs": [
        {
          "name": "stdout",
          "output_type": "stream",
          "text": [
            "🔍 Testing basic retrieval...\n",
            "📋 Retrieved 5 results:\n",
            "\n",
            "--- Result 1 ---\n",
            "Content: contracting process.\n",
            "The Apple Identity and Trademarks\n",
            "The Apple name, names of products (such as iPhone), names of services (such as AppleCare), taglines (such as ”Think \n",
            "Different”), and logos collectively create the Apple identity. Before publicly using any of these assets, review the Trademark...\n",
            "\n",
            "--- Result 2 ---\n",
            "Content: Different”), and logos collectively create the Apple identity. Before publicly using any of these assets, review the Trademark \n",
            "List, Trademark and Copyright Guidelines, and Corporate Identity Guidelines for how to properly do so. You should also \n",
            "check with Legal before using the product names, service names, taglines, or logos of any third parties.\n",
            "Third-Party Intellectual Property...\n",
            "\n",
            "--- Result 3 ---\n",
            "Content: check with Legal before using the product names, service names, taglines, or logos of any third parties.\n",
            "Third-Party Intellectual Property\n",
            "Apple respects third-party intellectual property. Never use the intellectual property of any third party without permission \n",
            "or legal right. If you are told or suspect that Apple may be infringing on third-party intellectual property, including patents,...\n",
            "\n",
            "--- Result 4 ---\n",
            "Content: services, any distribution of video, music or eBooks, and any software or app.\n",
            "• Generates or exposes you to intellectual property that competes with or relates to Apple’s present or \n",
            "reasonably anticipated business, products, or services....\n",
            "\n",
            "--- Result 5 ---\n",
            "Content: made in the normal course of business about third-party products sold by Apple. If you want to provide a personal \n",
            "reference, review the Employment Reference Guidelines....\n"
          ]
        }
      ],
      "source": [
        "# Test basic retrieval\n",
        "print(\"🔍 Testing basic retrieval...\")\n",
        "test_query = \"The Apple Identity and Trademarks\"\n",
        "\n",
        "basic_results = basic_vectorstore.similarity_search(\n",
        "    test_query, \n",
        "    k=5\n",
        ")\n",
        "print(f\"📋 Retrieved {len(basic_results)} results:\")\n",
        "for i, doc in enumerate(basic_results):  # Show first 2 results\n",
        "    print(f\"\\n--- Result {i+1} ---\")\n",
        "    print(f\"Content: {doc.page_content}...\")\n",
        "    # print(f\"Metadata: {doc.metadata}\")\n"
      ]
    },
    {
      "cell_type": "markdown",
      "metadata": {},
      "source": [
        "## 1.3 Parent Document Retrieval Implementation\n",
        "\n",
        "### What is Parent Document Retrieval?\n",
        "Parent document retrieval uses a two-step process:\n",
        "1. **Child chunks**: Small chunks for precise similarity search\n",
        "2. **Parent documents**: Larger documents that contain the child chunks\n",
        "\n",
        "When you query, it finds relevant child chunks, then returns their parent documents for better context.\n",
        "\n",
        "**Pros:**\n",
        "- Better context preservation\n",
        "- More comprehensive answers\n",
        "- Reduces hallucination\n",
        "\n",
        "**Cons:**\n",
        "- More complex to implement\n",
        "- Slightly slower retrieval\n",
        "- Uses more storage\n",
        "\n",
        "**When to use Parent Document Retrieval:**  \n",
        "Use when you need larger context preserved, and want fewer hallucinations.  \n",
        "Examples: policy documents, legal contracts, technical manuals, research papers.  \n"
      ]
    },
    {
      "cell_type": "code",
      "execution_count": 9,
      "metadata": {},
      "outputs": [
        {
          "name": "stdout",
          "output_type": "stream",
          "text": [
            "Creating child and parent chunks...\n",
            "✅ Created 218 child chunks and 86 parent chunks\n"
          ]
        }
      ],
      "source": [
        "# Create text splitters for parent document retrieval\n",
        "# Child splitter: small chunks for similarity search\n",
        "child_splitter = RecursiveCharacterTextSplitter(\n",
        "    chunk_size=400,  # Smaller chunks for better similarity\n",
        "    chunk_overlap=150\n",
        ")\n",
        "\n",
        "# Parent splitter: larger chunks for context\n",
        "parent_splitter = RecursiveCharacterTextSplitter(\n",
        "    chunk_size=1000,  # Larger chunks for context\n",
        "    chunk_overlap=400\n",
        ")\n",
        "\n",
        "print(\"Creating child and parent chunks...\")\n",
        "child_chunks = child_splitter.split_documents(documents)\n",
        "parent_chunks = parent_splitter.split_documents(documents)\n",
        "\n",
        "print(f\"✅ Created {len(child_chunks)} child chunks and {len(parent_chunks)} parent chunks\")\n"
      ]
    },
    {
      "cell_type": "code",
      "execution_count": 11,
      "metadata": {},
      "outputs": [
        {
          "name": "stdout",
          "output_type": "stream",
          "text": [
            "🗄️ Creating vector store for child chunks...\n",
            "📦 Creating parent document store...\n",
            "✅ Parent document store created!\n"
          ]
        }
      ],
      "source": [
        "# Create vector store for child chunks\n",
        "print(\"🗄️ Creating vector store for child chunks...\")\n",
        "child_vectorstore = Chroma.from_documents(\n",
        "    documents=child_chunks,\n",
        "    embedding=embeddings,\n",
        "    persist_directory=os.path.join(config.CHROMA_PERSIST_DIRECTORY, \"child\")\n",
        ")\n",
        "\n",
        "# Create store for parent documents\n",
        "print(\"📦 Creating parent document store...\")\n",
        "parent_store = InMemoryStore()\n",
        "\n",
        "# Store parent documents with IDs\n",
        "parent_ids = [f\"parent_{i}\" for i in range(len(parent_chunks))]\n",
        "parent_store.mset([(parent_ids[i], parent_chunks[i]) for i in range(len(parent_chunks))])\n",
        "\n",
        "print(\"✅ Parent document store created!\")\n"
      ]
    },
    {
      "cell_type": "code",
      "execution_count": 13,
      "metadata": {},
      "outputs": [
        {
          "name": "stdout",
          "output_type": "stream",
          "text": [
            "Setting up parent document retriever...\n",
            "✅ Parent document retriever ready!\n"
          ]
        }
      ],
      "source": [
        "# Create parent document retriever\n",
        "print(\"Setting up parent document retriever...\")\n",
        "parent_retriever = ParentDocumentRetriever(\n",
        "    vectorstore=child_vectorstore,\n",
        "    docstore=parent_store,\n",
        "    child_splitter=child_splitter,\n",
        "    parent_splitter=parent_splitter,\n",
        "    \n",
        ")\n",
        "\n",
        "# Add documents to the retriever\n",
        "parent_retriever.add_documents(documents)\n",
        "print(\"✅ Parent document retriever ready!\")\n"
      ]
    },
    {
      "cell_type": "code",
      "execution_count": 14,
      "metadata": {},
      "outputs": [
        {
          "name": "stdout",
          "output_type": "stream",
          "text": [
            "🔍 Testing parent document retrieval...\n",
            "📋 Retrieved 2 parent documents:\n",
            "\n",
            "--- Parent Document 1 ---\n",
            "Content: commitments that create a new agreement or modify an existing agreement without securing approval through the formal \n",
            "contracting process.\n",
            "The Apple Identity and Trademarks\n",
            "The Apple name, names of products (such as iPhone), names of services (such as AppleCare), taglines (such as ”Think \n",
            "Different”), and logos collectively create the Apple identity. Before publicly using any of these assets, review the Trademark \n",
            "List, Trademark and Copyright Guidelines, and Corporate Identity Guidelines for how to properly do so. You should also \n",
            "check with Legal before using the product names, service names, taglines, or logos of any third parties.\n",
            "Third-Party Intellectual Property\n",
            "Apple respects third-party intellectual property. Never use the intellectual property of any third party without permission \n",
            "or legal right. If you are told or suspect that Apple may be infringing on third-party intellectual property, including patents, \n",
            "copyrights, trademarks, or trade secrets, contact Legal....\n",
            "\n",
            "--- Parent Document 2 ---\n",
            "Content: what is required. \n",
            "For more information, see the Managing Your Records website or contact the Information Governance team. \n",
            "Side Deals or Side Letters\n",
            "Apple formally documents all terms and conditions of the agreements into which it enters. Contractual terms and \n",
            "conditions define Apple’s rights, obligations, liabilities, and accounting treatments. We do not accept business \n",
            "commitments outside of the formal contracting process managed by Legal. Side deals, side letters, or other informal \n",
            "documentation created by employees without Legal oversight are impermissible. You should not make any oral or written \n",
            "commitments that create a new agreement or modify an existing agreement without securing approval through the formal \n",
            "contracting process.\n",
            "The Apple Identity and Trademarks\n",
            "The Apple name, names of products (such as iPhone), names of services (such as AppleCare), taglines (such as ”Think...\n"
          ]
        }
      ],
      "source": [
        "# Test parent document retrieval\n",
        "print(\"🔍 Testing parent document retrieval...\")\n",
        "\n",
        "parent_results = parent_retriever.get_relevant_documents(\n",
        "    test_query,\n",
        ")\n",
        "\n",
        "print(f\"📋 Retrieved {len(parent_results)} parent documents:\")\n",
        "for i, doc in enumerate(parent_results):  # Show first 2 results\n",
        "    print(f\"\\n--- Parent Document {i+1} ---\")\n",
        "    print(f\"Content: {doc.page_content}...\")\n",
        "    # print(f\"Metadata: {doc.metadata}\")\n"
      ]
    },
    {
      "cell_type": "markdown",
      "metadata": {},
      "source": [
        "**Sample Query**: \"The Apple Identity and Trademarks\"\n",
        "\n",
        "**Basic Retrieval**: Returns small chunks that may miss surrounding policy context\n",
        "\n",
        "**Parent Document Retrieval**: Returns larger documents (1000 chars)\n",
        "\n",
        "containing:\n",
        "  - Complete trademark guidelines\n",
        "  - Related policies (side deals, intellectual property)\n",
        "  - Full context for comprehensive understanding"
      ]
    },
    {
      "cell_type": "markdown",
      "metadata": {},
      "source": [
        "# 2. Basic vs MMR"
      ]
    },
    {
      "cell_type": "markdown",
      "metadata": {},
      "source": [
        "## 2.1 Data Preparations"
      ]
    },
    {
      "cell_type": "markdown",
      "metadata": {},
      "source": [
        "\n",
        "**Source**: 8 Wikipedia articles focused on \"Technology\"\n",
        "\n",
        "**Content**: MIT, creative technology, ON Technology Corporation, general technology concepts\n",
        "\n",
        "**Why This Data**:\n",
        "  - Multiple articles mention similar concepts (e.g., MIT appears in several articles)\n",
        "  - Rich semantic diversity across technology domains\n",
        "  - Perfect for demonstrating MMR's diversity vs basic retrieval's redundancy\n",
        "  - Real-world scenario where users need comprehensive, non-repetitive information\n"
      ]
    },
    {
      "cell_type": "code",
      "execution_count": null,
      "metadata": {},
      "outputs": [],
      "source": []
    },
    {
      "cell_type": "code",
      "execution_count": 17,
      "metadata": {},
      "outputs": [
        {
          "name": "stdout",
          "output_type": "stream",
          "text": [
            "🌐 Loading Wikipedia documents...\n",
            "✅ Loaded 8 Wikipedia articles\n"
          ]
        }
      ],
      "source": [
        "\n",
        "\n",
        "from langchain_community.document_loaders import WikipediaLoader\n",
        "\n",
        "print(\"🌐 Loading Wikipedia documents...\")\n",
        "# You can change the topic if you want to showcase another domain\n",
        "wiki_loader = WikipediaLoader(query=\"Technology\", load_max_docs=8)\n",
        "wiki_docs = wiki_loader.load()\n",
        "\n",
        "print(f\"✅ Loaded {len(wiki_docs)} Wikipedia articles\")\n"
      ]
    },
    {
      "cell_type": "code",
      "execution_count": 18,
      "metadata": {},
      "outputs": [
        {
          "name": "stdout",
          "output_type": "stream",
          "text": [
            "✅ Created 113 chunks from Wikipedia articles\n"
          ]
        }
      ],
      "source": [
        "\n",
        "# Split into chunks\n",
        "wiki_splitter = RecursiveCharacterTextSplitter(\n",
        "    chunk_size=400,\n",
        "    chunk_overlap=100\n",
        ")\n",
        "wiki_chunks = wiki_splitter.split_documents(wiki_docs)\n",
        "print(f\"✅ Created {len(wiki_chunks)} chunks from Wikipedia articles\")\n",
        "\n",
        "# Create vectorstore\n",
        "wiki_vectorstore = Chroma.from_documents(\n",
        "    documents=wiki_chunks,\n",
        "    embedding=embeddings,\n",
        "    persist_directory=os.path.join(config.CHROMA_PERSIST_DIRECTORY, \"wiki\")\n",
        ")\n"
      ]
    },
    {
      "cell_type": "markdown",
      "metadata": {},
      "source": [
        "## 2.1 Basic Retrieval"
      ]
    },
    {
      "cell_type": "code",
      "execution_count": 27,
      "metadata": {},
      "outputs": [
        {
          "name": "stdout",
          "output_type": "stream",
          "text": [
            " Basic Retrieval (Wikipedia)...\n",
            "\n",
            "--- Basic Result 1 ---\n",
            "Content: topics such as artificial intelligence began to be brought up as Turing was beginning to question such technology of the time period....\n",
            "Information technology\n",
            "\n",
            "--- Basic Result 2 ---\n",
            "Content: Ideas of computer science were first mentioned before the 1950s under the Massachusetts Institute of Technology (MIT) and Harvard University, where they had discussed and began thinking of computer circuits and numerical calculations.  As time went on, the field of information technology and computer science became more complex and was able to handle the processing of more data. Scholarly...\n",
            "Information technology\n",
            "\n",
            "--- Basic Result 3 ---\n",
            "Content: During the early computing, Alan Turing, J. Presper Eckert, and John Mauchly were considered some of the major pioneers of computer technology in the mid-1900s. Giving them such credit for their developments, most of their efforts were focused on designing the first digital computer. Along with that, topics such as artificial intelligence began to be brought up as Turing was beginning to question...\n",
            "Information technology\n",
            "\n",
            "--- Basic Result 4 ---\n",
            "Content: engineering. MIT moved from Boston to Cambridge in 1916 and grew rapidly through collaboration with private industry, military branches, and new federal basic research agencies, the formation of which was influenced by MIT faculty like Vannevar Bush. In the late twentieth century, MIT became a leading center for research in computer science, digital technology, artificial intelligence and big...\n",
            "Massachusetts Institute of Technology\n",
            "\n",
            "--- Basic Result 5 ---\n",
            "Content: The first US patent for a tactile telephone was granted to Thomas D. Shannon in 1973. An early tactile man-machine communication system was constructed by A. Michael Noll at Bell Telephone Laboratories, Inc. in the early 1970s and a patent was issued for his invention in 1975....\n",
            "Haptic technology\n"
          ]
        }
      ],
      "source": [
        "\n",
        "# Test query\n",
        "wiki_query = \"History of deep learning and neural networks\"\n",
        "\n",
        "# Basic Retrieval\n",
        "print(\" Basic Retrieval (Wikipedia)...\")\n",
        "wiki_basic_results = wiki_vectorstore.similarity_search(wiki_query, k=5)\n",
        "for i, doc in enumerate(wiki_basic_results):\n",
        "    print(f\"\\n--- Basic Result {i+1} ---\")\n",
        "    print(f\"Content: {doc.page_content}...\")\n",
        "    print(doc.metadata['title'])\n"
      ]
    },
    {
      "cell_type": "markdown",
      "metadata": {},
      "source": [
        "## 2.2 MMR Retrieval"
      ]
    },
    {
      "cell_type": "code",
      "execution_count": 26,
      "metadata": {},
      "outputs": [
        {
          "name": "stdout",
          "output_type": "stream",
          "text": [
            "MMR Retrieval (Wikipedia)...\n",
            "\n",
            "--- MMR Result 1 ---\n",
            "Content: topics such as artificial intelligence began to be brought up as Turing was beginning to question such technology of the time period....\n",
            "Information technology\n",
            "\n",
            "--- MMR Result 2 ---\n",
            "Content: engineering. MIT moved from Boston to Cambridge in 1916 and grew rapidly through collaboration with private industry, military branches, and new federal basic research agencies, the formation of which was influenced by MIT faculty like Vannevar Bush. In the late twentieth century, MIT became a leading center for research in computer science, digital technology, artificial intelligence and big...\n",
            "Massachusetts Institute of Technology\n",
            "\n",
            "--- MMR Result 3 ---\n",
            "Content: mechanism. Comparable geared devices did not emerge in Europe until the 16th century, and it was not until 1645 that the first mechanical calculator capable of performing the four basic arithmetical operations was developed....\n",
            "Information technology\n",
            "\n",
            "--- MMR Result 4 ---\n",
            "Content: The first major corporation to have a corporate officer bearing the title creative technology was The Walt Disney Company, which gave it first to the imagineer, Bran Ferren in 1993, who eventually became Disney's president of creative technology in 1998. At about the same time, the first educational research center in the United States was created to bridge these disciplines across industry,...\n",
            "Creative technology\n",
            "\n",
            "--- MMR Result 5 ---\n",
            "Content: == History ==...\n",
            "TCL Technology\n"
          ]
        }
      ],
      "source": [
        "\n",
        "# MMR Retrieval\n",
        "print(\"MMR Retrieval (Wikipedia)...\")\n",
        "wiki_mmr_results = wiki_vectorstore.max_marginal_relevance_search(\n",
        "    wiki_query,\n",
        "    k=5,          # number of final results\n",
        "    fetch_k=20,   # larger candidate pool for diversity\n",
        "    lambda_mult=0.5  # balance between relevance (1.0) and diversity (0.0)\n",
        ")\n",
        "for i, doc in enumerate(wiki_mmr_results):\n",
        "    print(f\"\\n--- MMR Result {i+1} ---\")\n",
        "    print(f\"Content: {doc.page_content}...\")\n",
        "    print(doc.metadata['title'])\n",
        "\n"
      ]
    },
    {
      "cell_type": "markdown",
      "metadata": {},
      "source": [
        " **Query**: \"History of deep learning and neural networks\"\n",
        "\n",
        "**Basic Retrieval**: Returns similar, redundant results from same concepts\n",
        "\n",
        "**MMR Retrieval**: Returns diverse results from various sources:\n",
        "  - Academic perspectives (MIT)\n",
        "  - Corporate technology (ON Technology)\n",
        "  - Creative applications (creative technology)\n",
        "  - Historical evolution (general technology)\n",
        "\n",
        "**Key Benefit**: MMR provides broader coverage with less redundancy than basic retrieval"
      ]
    },
    {
      "cell_type": "markdown",
      "metadata": {},
      "source": [
        "# Bonus : Parent Document + MMR Retrieval"
      ]
    },
    {
      "cell_type": "code",
      "execution_count": null,
      "metadata": {},
      "outputs": [
        {
          "name": "stdout",
          "output_type": "stream",
          "text": [
            "🔗 Setting up MMR + Parent Document Retriever...\n",
            "✅ MMR + Parent Document Retriever ready!\n"
          ]
        }
      ],
      "source": [
        "\n",
        "print(\"Setting up MMR + Parent Document Retriever...\")\n",
        "from utils import MMRParentDocumentRetriever, create_mmr_parent_retriever\n",
        "\n",
        "# Create MMR Parent Document Retriever using our custom implementation\n",
        "mmr_parent_retriever = create_mmr_parent_retriever(\n",
        "    documents=wiki_docs,\n",
        "    embeddings=embeddings,\n",
        "    child_chunk_size=400,\n",
        "    child_chunk_overlap=150,\n",
        "    parent_chunk_size=1000,\n",
        "    parent_chunk_overlap=400,\n",
        "    persist_directory=os.path.join(config.CHROMA_PERSIST_DIRECTORY, \"mmr_parent\")\n",
        ")\n",
        "\n",
        "print(\"MMR + Parent Document Retriever ready!\")"
      ]
    },
    {
      "cell_type": "code",
      "execution_count": 25,
      "metadata": {},
      "outputs": [
        {
          "name": "stdout",
          "output_type": "stream",
          "text": [
            " Testing MMR + Parent Document Retrieval...\n",
            "\n",
            " Query: 'Masachuset Institute ofTechnology Role in Technology'\n",
            "==================================================\n",
            "\n",
            " MMR with lambda_mult=0.5 (diversity vs relevance):\n",
            "Retrieved 5 parent documents:\n",
            "\n",
            "--- MMR Parent Document 1 ---\n",
            "Content: == History ==\n",
            "\n",
            "\n",
            "=== Foundation and vision ===\n",
            "[...] a school of industrial science aiding the advancement, development and practical application of science in connection with arts, agriculture, manufactures, and commerce [...]\n",
            "In 1859, a proposal was submitted to the Massachusetts General Court to use newly filled lands in Back Bay, Boston for a \"Conservatory of Art and Science\", but the proposal failed. A charter for the incorporation of the Massachusetts Institute of Technology, proposed by William Barton Rogers, was signed by John Albion Andrew, the governor of Massachusetts, on April 10, 1861.\n",
            "Rogers, a geologist who had recently arrived in Boston from the University of Virginia, wanted to establish an institution to address rapid scientific and technological advances. He did not wish to found a professional school, but a combination with elements of both professional and liberal education, proposing that:...\n",
            "Metadata: Massachusetts Institute of Technology\n",
            "\n",
            "--- MMR Parent Document 2 ---\n",
            "Content: Technology is the application of conceptual knowledge to achieve practical goals, especially in a reproducible way. The word technology can also mean the products resulting from such efforts, including both tangible tools such as utensils or machines, and intangible ones such as software. Technology plays a critical role in science, engineering, and everyday life.\n",
            "Technological advancements have led to significant changes in society. The earliest known technology is the stone tool, used during prehistory, followed by the control of fire—which in turn contributed to the growth of the human brain and the development of language during the Ice Age, according to the cooking hypothesis. The invention of the wheel in the Bronze Age allowed greater travel and the creation of more complex machines. More recent technological inventions, including the printing press, telephone, and the Internet, have lowered barriers to communication and ushered in the knowledge economy....\n",
            "Metadata: Technology\n",
            "\n",
            "--- MMR Parent Document 3 ---\n",
            "Content: The Massachusetts Institute of Technology (MIT) is a private research university in Cambridge, Massachusetts, United States. Established in 1861, MIT has played a significant role in the development of many areas of modern technology and science....\n",
            "Metadata: Massachusetts Institute of Technology\n",
            "\n",
            "--- MMR Parent Document 4 ---\n",
            "Content: The first major corporation to have a corporate officer bearing the title creative technology was The Walt Disney Company, which gave it first to the imagineer, Bran Ferren in 1993, who eventually became Disney's president of creative technology in 1998. At about the same time, the first educational research center in the United States was created to bridge these disciplines across industry, academia and the defense communities, designated the University of Southern California's, Institute for Creative Technologies. The ICT was established with funding by the US Army....\n",
            "Metadata: Creative technology\n",
            "\n",
            "--- MMR Parent Document 5 ---\n",
            "Content: ON Technology Corporation was a software company in the United States. Formed in 1987  by Mitch Kapor after his departure from Lotus Software, the initial business plan of the company was to build an object-oriented PC desktop environment providing a variety of applications.  In (roughly) the early 1990s, the company was acquired by Notework Corporation, a vendor of LAN email systems. Although the merged company was now managed by the Notework Corporation, the company still retained the ON Technology name (which new management perceived had more cache/brand.)\n",
            "Following its acquisition by Notework Corporation, ON Technology proceeded to expand its product line through a series of small product/company acquisitions, including email software (DaVinci, a message handling system-based email product), antivirus technology, corporate Internet usage monitoring, IP firewall, and desktop systems management....\n",
            "Metadata: ON Technology\n"
          ]
        }
      ],
      "source": [
        "print(\" Testing MMR + Parent Document Retrieval...\")\n",
        "\n",
        "test_queries = [\n",
        "    \"Masachuset Institute ofTechnology Role in Technology\"]\n",
        "for query in test_queries:\n",
        "    print(f\"\\n Query: '{query}'\")\n",
        "    print(\"=\" * 50)\n",
        "    \n",
        "    # Test with different lambda_mult values\n",
        "    for lambda_mult in [0.5]:\n",
        "        print(f\"\\n MMR with lambda_mult={lambda_mult} (diversity vs relevance):\")\n",
        "        \n",
        "        mmr_parent_results = mmr_parent_retriever.get_relevant_documents(\n",
        "            query,\n",
        "            k=5,\n",
        "            fetch_k=10,\n",
        "            lambda_mult=lambda_mult\n",
        "        )\n",
        "        \n",
        "        print(f\"Retrieved {len(mmr_parent_results)} parent documents:\")\n",
        "        for i, doc in enumerate(mmr_parent_results):\n",
        "            print(f\"\\n--- MMR Parent Document {i+1} ---\")\n",
        "            print(f\"Content: {doc.page_content}...\")\n",
        "            # print(f\"Length: {len(doc.page_content)} characters\")\n",
        "            print(f\"Metadata: {doc.metadata['title']}\")"
      ]
    },
    {
      "cell_type": "markdown",
      "metadata": {},
      "source": [
        "##  3. Conclusion: Why Retrievers Matter\n",
        "\n",
        "Retrievers are not just plumbing. they shape the quality of answers in RAG.  \n",
        "\n",
        "- **Basic** → speed & simplicity  \n",
        "- **Parent** → context preservation  \n",
        "- **MMR** → diverse perspectives  \n",
        "\n",
        "**Key Message**: Choosing the right retriever can be just as impactful as picking the right LLM or embedding model.\n"
      ]
    },
    {
      "cell_type": "markdown",
      "metadata": {},
      "source": [
        "| Retriever  | Pros                       | Cons                  | Best Use Case           |\n",
        "| ---------- | -------------------------- | --------------------- | ----------------------- |\n",
        "| Basic      | Fast, simple               | Loses context         | FAQs, simple Q&A        |\n",
        "| Parent     | Context-rich               | Slower, storage-heavy | Policies, long docs     |\n",
        "| MMR        | Diverse, avoids duplicates | Needs tuning          | Research, exploration   |\n",
        "| Parent+MMR | Context + diversity        | Most complex          | Broad, critical queries |\n"
      ]
    }
  ],
  "metadata": {
    "kernelspec": {
      "display_name": "retrievers",
      "language": "python",
      "name": "python3"
    },
    "language_info": {
      "codemirror_mode": {
        "name": "ipython",
        "version": 3
      },
      "file_extension": ".py",
      "mimetype": "text/x-python",
      "name": "python",
      "nbconvert_exporter": "python",
      "pygments_lexer": "ipython3",
      "version": "3.11.13"
    }
  },
  "nbformat": 4,
  "nbformat_minor": 2
}
